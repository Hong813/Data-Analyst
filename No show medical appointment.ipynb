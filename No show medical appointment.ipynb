{
 "cells": [
  {
   "cell_type": "markdown",
   "metadata": {},
   "source": [
    "# Project: Investigate a Dataset (No Show Medical Appoitment Data!)\n",
    "## Table of Contents\n",
    "<ul>\n",
    "<li><a href=\"#intro\">Introduction</a></li>\n",
    "<li><a href=\"#wrangling\">Data Wrangling</a></li>\n",
    "<li><a href=\"#eda\">Exploratory Data Analysis</a></li>\n",
    "<li><a href=\"#Prediction\">Prediction</a></li>\n",
    "<li><a href=\"#conclusions\">Conclusions</a></li>\n",
    "</ul>"
   ]
  },
  {
   "cell_type": "markdown",
   "metadata": {},
   "source": [
    "<a id='intro'></a>\n",
    "# Introduction#\n",
    "\n",
    "Medical appointments are the most common hospital queue management system, and are designed to help distribute health care resource reasonably and efficiently for healthcare provider and institution and patients. Patients can arrange their health check up according to their time schedule and save time rather than waiting in the walk-in clinic. On the other side, health provider can avoid unpredictability in patient flow. However, in reality, some patients do not show up on their scheduled time which can cause many issues.\n",
    "\n",
    "Firstly, from health institution side, on show patient will leave a blank time slot without any occupation which lead to the time waste and financial loss for the hospital. In general , a common patient visit will generate about 196 dollars, and for a hospital with 100000 primary care visit and 10% non show rate will make up to about nearly 2 million revenue loss. This huge financial loss could influence the money flow in the institution and waste of doctor time.\n",
    "\n",
    "Secondly, from personal side, a missing appointment could result in complex medical condition, failure to diagnosis a medical condition at early stage. For some chronic patient, missed followup appointment can lead to worse controlled disease, readmission to the hospital or emergency department which place a heavy burden on the public health resource. In addition, because no show patients do not inform the institution ahead of their appointment, the time slot they reserved is blocked from other patients, which prevent the patients really in needs to get a health care earlier. So a significant body of health care research has focused on studying the features of non show patient, and on developing techniques and tools to use medical appointment record to make prediction of non shown of patients. \n",
    "\n",
    "In this study, we will investigate the medical appointment record from several hospitals in Brazil. The appointment dataset contains over 100K medical records, starting from 2016-04-29 to 2016-06-08 and covering 81 neighborhoods. The over all non-show rate is around 30%, and all of them are primary care visit. This high no show rate can definitely cause many healthcare resource waste and also influence the normal turn over in a health institution. \n",
    "\n",
    "### Questions:\n",
    "In this data analysis, we would like to dig deep into the noshow phenomenon in a Brazil public health system. We would like to figure out following questions:\n",
    "\n",
    ">1. What is proportion of the noshow appointments?\n",
    ">2. Is noshow apointment related to age or gender?\n",
    ">3. Does people with chronic disease tend to noshow more often than others?\n",
    ">4. Does longer leadtime result in high noshow proportion?\n",
    ">5. Does people receive government support tend to showup more?\n",
    ">6. In this study, there is a simple remedy method of reduce noshow proportion by SMS reminder? Does implemanting this method really reduce the noshow proportion?\n",
    "\n"
   ]
  },
  {
   "cell_type": "code",
   "execution_count": 1,
   "metadata": {},
   "outputs": [],
   "source": [
    "import pandas as pd\n",
    "import numpy as np\n",
    "import matplotlib.pyplot as plt\n",
    "import seaborn as sns\n",
    "%matplotlib inline"
   ]
  },
  {
   "cell_type": "markdown",
   "metadata": {},
   "source": [
    "<a id='wrangling'></a>\n",
    "## Data Wrangling\n",
    "\n",
    "> **Goals**: In this section of the report, we will load in the no show medical appoitment data, check for cleanliness, and then trim and clean the dataset for analysis. \n",
    "\n",
    "### General Properties"
   ]
  },
  {
   "cell_type": "code",
   "execution_count": 2,
   "metadata": {},
   "outputs": [
    {
     "data": {
      "text/html": [
       "<div>\n",
       "<style scoped>\n",
       "    .dataframe tbody tr th:only-of-type {\n",
       "        vertical-align: middle;\n",
       "    }\n",
       "\n",
       "    .dataframe tbody tr th {\n",
       "        vertical-align: top;\n",
       "    }\n",
       "\n",
       "    .dataframe thead th {\n",
       "        text-align: right;\n",
       "    }\n",
       "</style>\n",
       "<table border=\"1\" class=\"dataframe\">\n",
       "  <thead>\n",
       "    <tr style=\"text-align: right;\">\n",
       "      <th></th>\n",
       "      <th>PatientId</th>\n",
       "      <th>AppointmentID</th>\n",
       "      <th>Gender</th>\n",
       "      <th>ScheduledDay</th>\n",
       "      <th>AppointmentDay</th>\n",
       "      <th>Age</th>\n",
       "      <th>Neighbourhood</th>\n",
       "      <th>Scholarship</th>\n",
       "      <th>Hipertension</th>\n",
       "      <th>Diabetes</th>\n",
       "      <th>Alcoholism</th>\n",
       "      <th>Handcap</th>\n",
       "      <th>SMS_received</th>\n",
       "      <th>No-show</th>\n",
       "    </tr>\n",
       "  </thead>\n",
       "  <tbody>\n",
       "    <tr>\n",
       "      <th>0</th>\n",
       "      <td>2.987250e+13</td>\n",
       "      <td>5642903</td>\n",
       "      <td>F</td>\n",
       "      <td>2016-04-29T18:38:08Z</td>\n",
       "      <td>2016-04-29T00:00:00Z</td>\n",
       "      <td>62</td>\n",
       "      <td>JARDIM DA PENHA</td>\n",
       "      <td>0</td>\n",
       "      <td>1</td>\n",
       "      <td>0</td>\n",
       "      <td>0</td>\n",
       "      <td>0</td>\n",
       "      <td>0</td>\n",
       "      <td>No</td>\n",
       "    </tr>\n",
       "    <tr>\n",
       "      <th>1</th>\n",
       "      <td>5.589978e+14</td>\n",
       "      <td>5642503</td>\n",
       "      <td>M</td>\n",
       "      <td>2016-04-29T16:08:27Z</td>\n",
       "      <td>2016-04-29T00:00:00Z</td>\n",
       "      <td>56</td>\n",
       "      <td>JARDIM DA PENHA</td>\n",
       "      <td>0</td>\n",
       "      <td>0</td>\n",
       "      <td>0</td>\n",
       "      <td>0</td>\n",
       "      <td>0</td>\n",
       "      <td>0</td>\n",
       "      <td>No</td>\n",
       "    </tr>\n",
       "  </tbody>\n",
       "</table>\n",
       "</div>"
      ],
      "text/plain": [
       "      PatientId  AppointmentID Gender          ScheduledDay  \\\n",
       "0  2.987250e+13        5642903      F  2016-04-29T18:38:08Z   \n",
       "1  5.589978e+14        5642503      M  2016-04-29T16:08:27Z   \n",
       "\n",
       "         AppointmentDay  Age    Neighbourhood  Scholarship  Hipertension  \\\n",
       "0  2016-04-29T00:00:00Z   62  JARDIM DA PENHA            0             1   \n",
       "1  2016-04-29T00:00:00Z   56  JARDIM DA PENHA            0             0   \n",
       "\n",
       "   Diabetes  Alcoholism  Handcap  SMS_received No-show  \n",
       "0         0           0        0             0      No  \n",
       "1         0           0        0             0      No  "
      ]
     },
     "execution_count": 2,
     "metadata": {},
     "output_type": "execute_result"
    }
   ],
   "source": [
    "# load 'noshow appointments' data into dataframe\n",
    "df = pd.read_csv('KaggleV2-May-2016.csv')\n",
    "df.head(2)"
   ]
  },
  {
   "cell_type": "code",
   "execution_count": 3,
   "metadata": {},
   "outputs": [
    {
     "name": "stdout",
     "output_type": "stream",
     "text": [
      "<class 'pandas.core.frame.DataFrame'>\n",
      "RangeIndex: 110527 entries, 0 to 110526\n",
      "Data columns (total 14 columns):\n",
      "PatientId         110527 non-null float64\n",
      "AppointmentID     110527 non-null int64\n",
      "Gender            110527 non-null object\n",
      "ScheduledDay      110527 non-null object\n",
      "AppointmentDay    110527 non-null object\n",
      "Age               110527 non-null int64\n",
      "Neighbourhood     110527 non-null object\n",
      "Scholarship       110527 non-null int64\n",
      "Hipertension      110527 non-null int64\n",
      "Diabetes          110527 non-null int64\n",
      "Alcoholism        110527 non-null int64\n",
      "Handcap           110527 non-null int64\n",
      "SMS_received      110527 non-null int64\n",
      "No-show           110527 non-null object\n",
      "dtypes: float64(1), int64(8), object(5)\n",
      "memory usage: 11.8+ MB\n"
     ]
    }
   ],
   "source": [
    "df.info()"
   ]
  },
  {
   "cell_type": "code",
   "execution_count": 4,
   "metadata": {},
   "outputs": [
    {
     "name": "stdout",
     "output_type": "stream",
     "text": [
      "(110527, 14)\n"
     ]
    },
    {
     "data": {
      "text/html": [
       "<div>\n",
       "<style scoped>\n",
       "    .dataframe tbody tr th:only-of-type {\n",
       "        vertical-align: middle;\n",
       "    }\n",
       "\n",
       "    .dataframe tbody tr th {\n",
       "        vertical-align: top;\n",
       "    }\n",
       "\n",
       "    .dataframe thead th {\n",
       "        text-align: right;\n",
       "    }\n",
       "</style>\n",
       "<table border=\"1\" class=\"dataframe\">\n",
       "  <thead>\n",
       "    <tr style=\"text-align: right;\">\n",
       "      <th></th>\n",
       "      <th>PatientId</th>\n",
       "      <th>AppointmentID</th>\n",
       "      <th>Age</th>\n",
       "      <th>Scholarship</th>\n",
       "      <th>Hipertension</th>\n",
       "      <th>Diabetes</th>\n",
       "      <th>Alcoholism</th>\n",
       "      <th>Handcap</th>\n",
       "      <th>SMS_received</th>\n",
       "    </tr>\n",
       "  </thead>\n",
       "  <tbody>\n",
       "    <tr>\n",
       "      <th>count</th>\n",
       "      <td>1.105270e+05</td>\n",
       "      <td>1.105270e+05</td>\n",
       "      <td>110527.000000</td>\n",
       "      <td>110527.000000</td>\n",
       "      <td>110527.000000</td>\n",
       "      <td>110527.000000</td>\n",
       "      <td>110527.000000</td>\n",
       "      <td>110527.000000</td>\n",
       "      <td>110527.000000</td>\n",
       "    </tr>\n",
       "    <tr>\n",
       "      <th>mean</th>\n",
       "      <td>1.474963e+14</td>\n",
       "      <td>5.675305e+06</td>\n",
       "      <td>37.088874</td>\n",
       "      <td>0.098266</td>\n",
       "      <td>0.197246</td>\n",
       "      <td>0.071865</td>\n",
       "      <td>0.030400</td>\n",
       "      <td>0.022248</td>\n",
       "      <td>0.321026</td>\n",
       "    </tr>\n",
       "    <tr>\n",
       "      <th>std</th>\n",
       "      <td>2.560949e+14</td>\n",
       "      <td>7.129575e+04</td>\n",
       "      <td>23.110205</td>\n",
       "      <td>0.297675</td>\n",
       "      <td>0.397921</td>\n",
       "      <td>0.258265</td>\n",
       "      <td>0.171686</td>\n",
       "      <td>0.161543</td>\n",
       "      <td>0.466873</td>\n",
       "    </tr>\n",
       "    <tr>\n",
       "      <th>min</th>\n",
       "      <td>3.921784e+04</td>\n",
       "      <td>5.030230e+06</td>\n",
       "      <td>-1.000000</td>\n",
       "      <td>0.000000</td>\n",
       "      <td>0.000000</td>\n",
       "      <td>0.000000</td>\n",
       "      <td>0.000000</td>\n",
       "      <td>0.000000</td>\n",
       "      <td>0.000000</td>\n",
       "    </tr>\n",
       "    <tr>\n",
       "      <th>25%</th>\n",
       "      <td>4.172614e+12</td>\n",
       "      <td>5.640286e+06</td>\n",
       "      <td>18.000000</td>\n",
       "      <td>0.000000</td>\n",
       "      <td>0.000000</td>\n",
       "      <td>0.000000</td>\n",
       "      <td>0.000000</td>\n",
       "      <td>0.000000</td>\n",
       "      <td>0.000000</td>\n",
       "    </tr>\n",
       "    <tr>\n",
       "      <th>50%</th>\n",
       "      <td>3.173184e+13</td>\n",
       "      <td>5.680573e+06</td>\n",
       "      <td>37.000000</td>\n",
       "      <td>0.000000</td>\n",
       "      <td>0.000000</td>\n",
       "      <td>0.000000</td>\n",
       "      <td>0.000000</td>\n",
       "      <td>0.000000</td>\n",
       "      <td>0.000000</td>\n",
       "    </tr>\n",
       "    <tr>\n",
       "      <th>75%</th>\n",
       "      <td>9.439172e+13</td>\n",
       "      <td>5.725524e+06</td>\n",
       "      <td>55.000000</td>\n",
       "      <td>0.000000</td>\n",
       "      <td>0.000000</td>\n",
       "      <td>0.000000</td>\n",
       "      <td>0.000000</td>\n",
       "      <td>0.000000</td>\n",
       "      <td>1.000000</td>\n",
       "    </tr>\n",
       "    <tr>\n",
       "      <th>max</th>\n",
       "      <td>9.999816e+14</td>\n",
       "      <td>5.790484e+06</td>\n",
       "      <td>115.000000</td>\n",
       "      <td>1.000000</td>\n",
       "      <td>1.000000</td>\n",
       "      <td>1.000000</td>\n",
       "      <td>1.000000</td>\n",
       "      <td>4.000000</td>\n",
       "      <td>1.000000</td>\n",
       "    </tr>\n",
       "  </tbody>\n",
       "</table>\n",
       "</div>"
      ],
      "text/plain": [
       "          PatientId  AppointmentID            Age    Scholarship  \\\n",
       "count  1.105270e+05   1.105270e+05  110527.000000  110527.000000   \n",
       "mean   1.474963e+14   5.675305e+06      37.088874       0.098266   \n",
       "std    2.560949e+14   7.129575e+04      23.110205       0.297675   \n",
       "min    3.921784e+04   5.030230e+06      -1.000000       0.000000   \n",
       "25%    4.172614e+12   5.640286e+06      18.000000       0.000000   \n",
       "50%    3.173184e+13   5.680573e+06      37.000000       0.000000   \n",
       "75%    9.439172e+13   5.725524e+06      55.000000       0.000000   \n",
       "max    9.999816e+14   5.790484e+06     115.000000       1.000000   \n",
       "\n",
       "        Hipertension       Diabetes     Alcoholism        Handcap  \\\n",
       "count  110527.000000  110527.000000  110527.000000  110527.000000   \n",
       "mean        0.197246       0.071865       0.030400       0.022248   \n",
       "std         0.397921       0.258265       0.171686       0.161543   \n",
       "min         0.000000       0.000000       0.000000       0.000000   \n",
       "25%         0.000000       0.000000       0.000000       0.000000   \n",
       "50%         0.000000       0.000000       0.000000       0.000000   \n",
       "75%         0.000000       0.000000       0.000000       0.000000   \n",
       "max         1.000000       1.000000       1.000000       4.000000   \n",
       "\n",
       "        SMS_received  \n",
       "count  110527.000000  \n",
       "mean        0.321026  \n",
       "std         0.466873  \n",
       "min         0.000000  \n",
       "25%         0.000000  \n",
       "50%         0.000000  \n",
       "75%         1.000000  \n",
       "max         1.000000  "
      ]
     },
     "execution_count": 4,
     "metadata": {},
     "output_type": "execute_result"
    }
   ],
   "source": [
    "# check df size\n",
    "print(df.shape)\n",
    "df.describe()"
   ]
  },
  {
   "cell_type": "markdown",
   "metadata": {},
   "source": [
    "-There are 110527 medical appointments and 14 features. The min age is -1 which is unreasonable which we will take care later on. The mean and media of age is nearly the same, indicating the age feature has a normal distribution.Only a samll portion of patients receive scholarship. The highest pre-exsisting condition is hipertension,accounting for nearly 19% of the total patient pool. Not all patients received SMS reminder, only 32% got SMS."
   ]
  },
  {
   "cell_type": "code",
   "execution_count": 5,
   "metadata": {},
   "outputs": [
    {
     "name": "stdout",
     "output_type": "stream",
     "text": [
      "There are 2 values in Gender, which are ['F' 'M'].\n",
      "There are 2 values in Scholarship, which are [0 1].\n",
      "There are 2 values in Hipertension, which are [1 0].\n",
      "There are 2 values in Diabetes, which are [0 1].\n",
      "There are 2 values in Alcoholism, which are [0 1].\n",
      "There are 5 values in Handcap, which are [0 1 2 3 4].\n",
      "There are 2 values in SMS_received, which are [0 1].\n",
      "There are 2 values in No-show, which are ['No' 'Yes'].\n"
     ]
    }
   ],
   "source": [
    "columns = ['Gender', 'Scholarship', 'Hipertension', 'Diabetes', 'Alcoholism', 'Handcap', 'SMS_received', 'No-show']\n",
    "for i in columns:\n",
    "    print(\"There are {} values in {}, which are {}.\".format(len(df[i].unique()), i, df[i].unique()))\n"
   ]
  },
  {
   "cell_type": "code",
   "execution_count": 6,
   "metadata": {},
   "outputs": [
    {
     "data": {
      "text/plain": [
       "62299"
      ]
     },
     "execution_count": 6,
     "metadata": {},
     "output_type": "execute_result"
    }
   ],
   "source": [
    "# check weather there are several data with same patient and several visits\n",
    "df['PatientId'].nunique()"
   ]
  },
  {
   "cell_type": "markdown",
   "metadata": {},
   "source": [
    "We don't know the \"PatientID\" is assigned to the patients throughout their lifetime like some kind of identification, or it is just a random assigned number from the hospital. In general, in order to keep the privacy and security of the patients, the dataset will not reveal any personal information (like their permanent identification number), so I am more inclined to think that this is a medical identification number shared within the same medical institution.  We will try to deal with it later on."
   ]
  },
  {
   "cell_type": "markdown",
   "metadata": {},
   "source": [
    "### Data Cleaning \n",
    "Just as I mentioned before, this dataset is very neat, we do not need to do too much clean up work. \n",
    "> First, we will rename several columns to make consistent and easy for future assignment.\n",
    "> Secondly, convert the scheduleday and appoitmentday to standard data style and calculate the lead time between them.\n",
    "> 1. df_new is for categorical analysis with lots of zero values in budget_adj and revenue_adj.\n",
    "> 2. df_fin is for numerical analysis dealing with budget, revenue and so on."
   ]
  },
  {
   "cell_type": "code",
   "execution_count": 7,
   "metadata": {},
   "outputs": [
    {
     "data": {
      "text/plain": [
       "No     88208\n",
       "Yes    22319\n",
       "Name: No-show, dtype: int64"
      ]
     },
     "execution_count": 7,
     "metadata": {},
     "output_type": "execute_result"
    }
   ],
   "source": [
    "df['No-show'].value_counts()"
   ]
  },
  {
   "cell_type": "markdown",
   "metadata": {},
   "source": [
    "There is no duplicated row calling the pandas, but this doesn't mean there are no revisit or some kind of repeated information. So we will dig more into this information.\n"
   ]
  },
  {
   "cell_type": "code",
   "execution_count": 8,
   "metadata": {},
   "outputs": [
    {
     "data": {
      "text/html": [
       "<div>\n",
       "<style scoped>\n",
       "    .dataframe tbody tr th:only-of-type {\n",
       "        vertical-align: middle;\n",
       "    }\n",
       "\n",
       "    .dataframe tbody tr th {\n",
       "        vertical-align: top;\n",
       "    }\n",
       "\n",
       "    .dataframe thead th {\n",
       "        text-align: right;\n",
       "    }\n",
       "</style>\n",
       "<table border=\"1\" class=\"dataframe\">\n",
       "  <thead>\n",
       "    <tr style=\"text-align: right;\">\n",
       "      <th></th>\n",
       "      <th>PatientId</th>\n",
       "      <th>AppointmentId</th>\n",
       "      <th>Gender</th>\n",
       "      <th>ScheduledDay</th>\n",
       "      <th>AppointmentDay</th>\n",
       "      <th>Age</th>\n",
       "      <th>Neighbourhood</th>\n",
       "      <th>Scholarship</th>\n",
       "      <th>Hypertension</th>\n",
       "      <th>Diabetes</th>\n",
       "      <th>Alcoholism</th>\n",
       "      <th>Handicap</th>\n",
       "      <th>SMS_received</th>\n",
       "      <th>No_show</th>\n",
       "    </tr>\n",
       "  </thead>\n",
       "  <tbody>\n",
       "    <tr>\n",
       "      <th>0</th>\n",
       "      <td>2.987250e+13</td>\n",
       "      <td>5642903</td>\n",
       "      <td>F</td>\n",
       "      <td>2016-04-29T18:38:08Z</td>\n",
       "      <td>2016-04-29T00:00:00Z</td>\n",
       "      <td>62</td>\n",
       "      <td>JARDIM DA PENHA</td>\n",
       "      <td>0</td>\n",
       "      <td>1</td>\n",
       "      <td>0</td>\n",
       "      <td>0</td>\n",
       "      <td>0</td>\n",
       "      <td>0</td>\n",
       "      <td>No</td>\n",
       "    </tr>\n",
       "    <tr>\n",
       "      <th>1</th>\n",
       "      <td>5.589978e+14</td>\n",
       "      <td>5642503</td>\n",
       "      <td>M</td>\n",
       "      <td>2016-04-29T16:08:27Z</td>\n",
       "      <td>2016-04-29T00:00:00Z</td>\n",
       "      <td>56</td>\n",
       "      <td>JARDIM DA PENHA</td>\n",
       "      <td>0</td>\n",
       "      <td>0</td>\n",
       "      <td>0</td>\n",
       "      <td>0</td>\n",
       "      <td>0</td>\n",
       "      <td>0</td>\n",
       "      <td>No</td>\n",
       "    </tr>\n",
       "  </tbody>\n",
       "</table>\n",
       "</div>"
      ],
      "text/plain": [
       "      PatientId  AppointmentId Gender          ScheduledDay  \\\n",
       "0  2.987250e+13        5642903      F  2016-04-29T18:38:08Z   \n",
       "1  5.589978e+14        5642503      M  2016-04-29T16:08:27Z   \n",
       "\n",
       "         AppointmentDay  Age    Neighbourhood  Scholarship  Hypertension  \\\n",
       "0  2016-04-29T00:00:00Z   62  JARDIM DA PENHA            0             1   \n",
       "1  2016-04-29T00:00:00Z   56  JARDIM DA PENHA            0             0   \n",
       "\n",
       "   Diabetes  Alcoholism  Handicap  SMS_received No_show  \n",
       "0         0           0         0             0      No  \n",
       "1         0           0         0             0      No  "
      ]
     },
     "execution_count": 8,
     "metadata": {},
     "output_type": "execute_result"
    }
   ],
   "source": [
    "# rename some column\n",
    "df.rename(columns = {'AppointmentID':'AppointmentId','Hipertension':'Hypertension', 'Handcap':'Handicap',\n",
    "                     'No-show':'No_show'}, inplace = True)\n",
    "df.head(2)"
   ]
  },
  {
   "cell_type": "code",
   "execution_count": 9,
   "metadata": {},
   "outputs": [
    {
     "name": "stdout",
     "output_type": "stream",
     "text": [
      "For scheduled appointments,the starting day is 2015-11-10, and the ending day is 2016-06-08.\n",
      "For appointments,the starting day is 2016-04-29, and the ending day is 2016-06-08.\n"
     ]
    }
   ],
   "source": [
    "# datastamp \n",
    "df['ScheduledDay_Origin'] = df['ScheduledDay'].copy()\n",
    "df['ScheduledDay'] = pd.to_datetime(df['ScheduledDay']).dt.date\n",
    "df['AppointmentDay'] = pd.to_datetime(df['AppointmentDay']).dt.date\n",
    "print(\"For scheduled appointments,the starting day is {}, and the ending day is {}.\".format(min(df['ScheduledDay']),max(df['ScheduledDay'])))\n",
    "print(\"For appointments,the starting day is {}, and the ending day is {}.\".format(min(df['AppointmentDay']),max(df['AppointmentDay'])))\n",
    "#df.head(2)"
   ]
  },
  {
   "cell_type": "markdown",
   "metadata": {},
   "source": [
    "# All the appointments happened within around 40 days."
   ]
  },
  {
   "cell_type": "code",
   "execution_count": 10,
   "metadata": {},
   "outputs": [
    {
     "data": {
      "text/plain": [
       "count    110527.000000\n",
       "mean         10.183702\n",
       "std          15.254996\n",
       "min          -6.000000\n",
       "25%           0.000000\n",
       "50%           4.000000\n",
       "75%          15.000000\n",
       "max         179.000000\n",
       "Name: Leadtime, dtype: float64"
      ]
     },
     "execution_count": 10,
     "metadata": {},
     "output_type": "execute_result"
    }
   ],
   "source": [
    "# calculate the leadtime\n",
    "df['Leadtime'] = df['AppointmentDay'] - df['ScheduledDay']\n",
    "df['Leadtime'] = df['Leadtime'].apply(lambda x: x.days)\n",
    "df['Leadtime'].describe()"
   ]
  },
  {
   "cell_type": "markdown",
   "metadata": {},
   "source": [
    "Because the mean is higher than media, this means that the lead time data is right skewed with most of appointment has short lead time. Usually, patients will book yearly check up or long-ter, conditional follow-up visit in advance, if the lead time is short, indicating most of the hospital visits are related to some recently developed condition. These condition sometimes can self cured or disappeared, some will consist or become worse and have to go to emergency department. But we don't know whether this will related to high show up rate. The minimum lead time is under zero which is unreasonable, we will check all lead time below zero."
   ]
  },
  {
   "cell_type": "code",
   "execution_count": 11,
   "metadata": {},
   "outputs": [
    {
     "data": {
      "text/html": [
       "<div>\n",
       "<style scoped>\n",
       "    .dataframe tbody tr th:only-of-type {\n",
       "        vertical-align: middle;\n",
       "    }\n",
       "\n",
       "    .dataframe tbody tr th {\n",
       "        vertical-align: top;\n",
       "    }\n",
       "\n",
       "    .dataframe thead th {\n",
       "        text-align: right;\n",
       "    }\n",
       "</style>\n",
       "<table border=\"1\" class=\"dataframe\">\n",
       "  <thead>\n",
       "    <tr style=\"text-align: right;\">\n",
       "      <th></th>\n",
       "      <th>PatientId</th>\n",
       "      <th>AppointmentId</th>\n",
       "      <th>Gender</th>\n",
       "      <th>ScheduledDay</th>\n",
       "      <th>AppointmentDay</th>\n",
       "      <th>Age</th>\n",
       "      <th>Neighbourhood</th>\n",
       "      <th>Scholarship</th>\n",
       "      <th>Hypertension</th>\n",
       "      <th>Diabetes</th>\n",
       "      <th>Alcoholism</th>\n",
       "      <th>Handicap</th>\n",
       "      <th>SMS_received</th>\n",
       "      <th>No_show</th>\n",
       "      <th>ScheduledDay_Origin</th>\n",
       "      <th>Leadtime</th>\n",
       "    </tr>\n",
       "  </thead>\n",
       "  <tbody>\n",
       "    <tr>\n",
       "      <th>27033</th>\n",
       "      <td>7.839273e+12</td>\n",
       "      <td>5679978</td>\n",
       "      <td>M</td>\n",
       "      <td>2016-05-10</td>\n",
       "      <td>2016-05-09</td>\n",
       "      <td>38</td>\n",
       "      <td>RESISTÊNCIA</td>\n",
       "      <td>0</td>\n",
       "      <td>0</td>\n",
       "      <td>0</td>\n",
       "      <td>0</td>\n",
       "      <td>1</td>\n",
       "      <td>0</td>\n",
       "      <td>Yes</td>\n",
       "      <td>2016-05-10T10:51:53Z</td>\n",
       "      <td>-1</td>\n",
       "    </tr>\n",
       "    <tr>\n",
       "      <th>55226</th>\n",
       "      <td>7.896294e+12</td>\n",
       "      <td>5715660</td>\n",
       "      <td>F</td>\n",
       "      <td>2016-05-18</td>\n",
       "      <td>2016-05-17</td>\n",
       "      <td>19</td>\n",
       "      <td>SANTO ANTÔNIO</td>\n",
       "      <td>0</td>\n",
       "      <td>0</td>\n",
       "      <td>0</td>\n",
       "      <td>0</td>\n",
       "      <td>1</td>\n",
       "      <td>0</td>\n",
       "      <td>Yes</td>\n",
       "      <td>2016-05-18T14:50:41Z</td>\n",
       "      <td>-1</td>\n",
       "    </tr>\n",
       "    <tr>\n",
       "      <th>64175</th>\n",
       "      <td>2.425226e+13</td>\n",
       "      <td>5664962</td>\n",
       "      <td>F</td>\n",
       "      <td>2016-05-05</td>\n",
       "      <td>2016-05-04</td>\n",
       "      <td>22</td>\n",
       "      <td>CONSOLAÇÃO</td>\n",
       "      <td>0</td>\n",
       "      <td>0</td>\n",
       "      <td>0</td>\n",
       "      <td>0</td>\n",
       "      <td>0</td>\n",
       "      <td>0</td>\n",
       "      <td>Yes</td>\n",
       "      <td>2016-05-05T13:43:58Z</td>\n",
       "      <td>-1</td>\n",
       "    </tr>\n",
       "    <tr>\n",
       "      <th>71533</th>\n",
       "      <td>9.982316e+14</td>\n",
       "      <td>5686628</td>\n",
       "      <td>F</td>\n",
       "      <td>2016-05-11</td>\n",
       "      <td>2016-05-05</td>\n",
       "      <td>81</td>\n",
       "      <td>SANTO ANTÔNIO</td>\n",
       "      <td>0</td>\n",
       "      <td>0</td>\n",
       "      <td>0</td>\n",
       "      <td>0</td>\n",
       "      <td>0</td>\n",
       "      <td>0</td>\n",
       "      <td>Yes</td>\n",
       "      <td>2016-05-11T13:49:20Z</td>\n",
       "      <td>-6</td>\n",
       "    </tr>\n",
       "    <tr>\n",
       "      <th>72362</th>\n",
       "      <td>3.787482e+12</td>\n",
       "      <td>5655637</td>\n",
       "      <td>M</td>\n",
       "      <td>2016-05-04</td>\n",
       "      <td>2016-05-03</td>\n",
       "      <td>7</td>\n",
       "      <td>TABUAZEIRO</td>\n",
       "      <td>0</td>\n",
       "      <td>0</td>\n",
       "      <td>0</td>\n",
       "      <td>0</td>\n",
       "      <td>0</td>\n",
       "      <td>0</td>\n",
       "      <td>Yes</td>\n",
       "      <td>2016-05-04T06:50:57Z</td>\n",
       "      <td>-1</td>\n",
       "    </tr>\n",
       "  </tbody>\n",
       "</table>\n",
       "</div>"
      ],
      "text/plain": [
       "          PatientId  AppointmentId Gender ScheduledDay AppointmentDay  Age  \\\n",
       "27033  7.839273e+12        5679978      M   2016-05-10     2016-05-09   38   \n",
       "55226  7.896294e+12        5715660      F   2016-05-18     2016-05-17   19   \n",
       "64175  2.425226e+13        5664962      F   2016-05-05     2016-05-04   22   \n",
       "71533  9.982316e+14        5686628      F   2016-05-11     2016-05-05   81   \n",
       "72362  3.787482e+12        5655637      M   2016-05-04     2016-05-03    7   \n",
       "\n",
       "       Neighbourhood  Scholarship  Hypertension  Diabetes  Alcoholism  \\\n",
       "27033    RESISTÊNCIA            0             0         0           0   \n",
       "55226  SANTO ANTÔNIO            0             0         0           0   \n",
       "64175     CONSOLAÇÃO            0             0         0           0   \n",
       "71533  SANTO ANTÔNIO            0             0         0           0   \n",
       "72362     TABUAZEIRO            0             0         0           0   \n",
       "\n",
       "       Handicap  SMS_received No_show   ScheduledDay_Origin  Leadtime  \n",
       "27033         1             0     Yes  2016-05-10T10:51:53Z        -1  \n",
       "55226         1             0     Yes  2016-05-18T14:50:41Z        -1  \n",
       "64175         0             0     Yes  2016-05-05T13:43:58Z        -1  \n",
       "71533         0             0     Yes  2016-05-11T13:49:20Z        -6  \n",
       "72362         0             0     Yes  2016-05-04T06:50:57Z        -1  "
      ]
     },
     "execution_count": 11,
     "metadata": {},
     "output_type": "execute_result"
    }
   ],
   "source": [
    "#check any data that has a lead time below zero\n",
    "df.query('Leadtime <0')"
   ]
  },
  {
   "cell_type": "markdown",
   "metadata": {},
   "source": [
    "These zero data are real appointment and happened to be some typo errors. We have no way to track the original data, so we just discard them as wrong data."
   ]
  },
  {
   "cell_type": "code",
   "execution_count": 12,
   "metadata": {},
   "outputs": [],
   "source": [
    "# drop leadtime less than 0 \n",
    "df = df[df['Leadtime'] >=0 ]"
   ]
  },
  {
   "cell_type": "code",
   "execution_count": 13,
   "metadata": {},
   "outputs": [
    {
     "data": {
      "text/plain": [
       "count    110522.000000\n",
       "mean         37.089041\n",
       "std          23.110064\n",
       "min          -1.000000\n",
       "25%          18.000000\n",
       "50%          37.000000\n",
       "75%          55.000000\n",
       "max         115.000000\n",
       "Name: Age, dtype: float64"
      ]
     },
     "execution_count": 13,
     "metadata": {},
     "output_type": "execute_result"
    }
   ],
   "source": [
    "# get statisticial description about patient age\n",
    "df['Age'].describe()"
   ]
  },
  {
   "cell_type": "markdown",
   "metadata": {},
   "source": [
    "There should not have a patient with ago below zero, like before we just discard them as error data."
   ]
  },
  {
   "cell_type": "code",
   "execution_count": 14,
   "metadata": {},
   "outputs": [
    {
     "data": {
      "text/plain": [
       "(110521, 17)"
      ]
     },
     "execution_count": 14,
     "metadata": {},
     "output_type": "execute_result"
    }
   ],
   "source": [
    "# drop age below 0\n",
    "df = df[df['Age'] >= 0]\n",
    "\n",
    "# creat a new column by patients' age\n",
    "Age_category = ['0-9', '10-19','20-29', '30-39', '40-49', '50-59','60-69', '70-79','80-89','90-99','100+']\n",
    "Age_edges = [ 0, 9, 19, 29, 39, 49, 59, 69, 79, 89, 99, 115]\n",
    "df['Patient'] = pd.cut(df['Age'], Age_edges, labels=Age_category)\n",
    "df.shape"
   ]
  },
  {
   "cell_type": "code",
   "execution_count": 15,
   "metadata": {},
   "outputs": [],
   "source": [
    "# create leadtime based on patient's waiting time before appointment\n",
    "Leadtime_category = ['Sameday', 'Oneday','Oneweek', 'Twoweek','Threeweek','OverOneMonth']\n",
    "Leadtime_edges = [-1, 0, 1, 6, 13, 29, 179]\n",
    "df['Leadtime_cat'] = pd.cut(df['Leadtime'], Leadtime_edges, labels = Leadtime_category)\n"
   ]
  },
  {
   "cell_type": "code",
   "execution_count": 16,
   "metadata": {},
   "outputs": [
    {
     "data": {
      "text/html": [
       "<div>\n",
       "<style scoped>\n",
       "    .dataframe tbody tr th:only-of-type {\n",
       "        vertical-align: middle;\n",
       "    }\n",
       "\n",
       "    .dataframe tbody tr th {\n",
       "        vertical-align: top;\n",
       "    }\n",
       "\n",
       "    .dataframe thead th {\n",
       "        text-align: right;\n",
       "    }\n",
       "</style>\n",
       "<table border=\"1\" class=\"dataframe\">\n",
       "  <thead>\n",
       "    <tr style=\"text-align: right;\">\n",
       "      <th></th>\n",
       "      <th>PatientId</th>\n",
       "      <th>AppointmentId</th>\n",
       "      <th>Gender</th>\n",
       "      <th>ScheduledDay</th>\n",
       "      <th>AppointmentDay</th>\n",
       "      <th>Age</th>\n",
       "      <th>Neighbourhood</th>\n",
       "      <th>Scholarship</th>\n",
       "      <th>Hypertension</th>\n",
       "      <th>Diabetes</th>\n",
       "      <th>Alcoholism</th>\n",
       "      <th>Handicap</th>\n",
       "      <th>SMS_received</th>\n",
       "      <th>No_show</th>\n",
       "      <th>ScheduledDay_Origin</th>\n",
       "      <th>Leadtime</th>\n",
       "      <th>Patient</th>\n",
       "      <th>Leadtime_cat</th>\n",
       "      <th>Result</th>\n",
       "    </tr>\n",
       "  </thead>\n",
       "  <tbody>\n",
       "    <tr>\n",
       "      <th>0</th>\n",
       "      <td>2.987250e+13</td>\n",
       "      <td>5642903</td>\n",
       "      <td>F</td>\n",
       "      <td>2016-04-29</td>\n",
       "      <td>2016-04-29</td>\n",
       "      <td>62</td>\n",
       "      <td>JARDIM DA PENHA</td>\n",
       "      <td>0</td>\n",
       "      <td>1</td>\n",
       "      <td>0</td>\n",
       "      <td>0</td>\n",
       "      <td>0</td>\n",
       "      <td>0</td>\n",
       "      <td>No</td>\n",
       "      <td>2016-04-29T18:38:08Z</td>\n",
       "      <td>0</td>\n",
       "      <td>60-69</td>\n",
       "      <td>Sameday</td>\n",
       "      <td>Show</td>\n",
       "    </tr>\n",
       "    <tr>\n",
       "      <th>1</th>\n",
       "      <td>5.589978e+14</td>\n",
       "      <td>5642503</td>\n",
       "      <td>M</td>\n",
       "      <td>2016-04-29</td>\n",
       "      <td>2016-04-29</td>\n",
       "      <td>56</td>\n",
       "      <td>JARDIM DA PENHA</td>\n",
       "      <td>0</td>\n",
       "      <td>0</td>\n",
       "      <td>0</td>\n",
       "      <td>0</td>\n",
       "      <td>0</td>\n",
       "      <td>0</td>\n",
       "      <td>No</td>\n",
       "      <td>2016-04-29T16:08:27Z</td>\n",
       "      <td>0</td>\n",
       "      <td>50-59</td>\n",
       "      <td>Sameday</td>\n",
       "      <td>Show</td>\n",
       "    </tr>\n",
       "  </tbody>\n",
       "</table>\n",
       "</div>"
      ],
      "text/plain": [
       "      PatientId  AppointmentId Gender ScheduledDay AppointmentDay  Age  \\\n",
       "0  2.987250e+13        5642903      F   2016-04-29     2016-04-29   62   \n",
       "1  5.589978e+14        5642503      M   2016-04-29     2016-04-29   56   \n",
       "\n",
       "     Neighbourhood  Scholarship  Hypertension  Diabetes  Alcoholism  Handicap  \\\n",
       "0  JARDIM DA PENHA            0             1         0           0         0   \n",
       "1  JARDIM DA PENHA            0             0         0           0         0   \n",
       "\n",
       "   SMS_received No_show   ScheduledDay_Origin  Leadtime Patient Leadtime_cat  \\\n",
       "0             0      No  2016-04-29T18:38:08Z         0   60-69      Sameday   \n",
       "1             0      No  2016-04-29T16:08:27Z         0   50-59      Sameday   \n",
       "\n",
       "  Result  \n",
       "0   Show  \n",
       "1   Show  "
      ]
     },
     "execution_count": 16,
     "metadata": {},
     "output_type": "execute_result"
    }
   ],
   "source": [
    "# the No_show column with 'Yes' and 'No' is somehow a little comfusing, so add a new column 'Result' with values of 'Show' and 'Noshow'.\n",
    "df.loc[df['No_show']=='Yes', 'Result'] = 'Noshow'\n",
    "df.loc[df['No_show']=='No', 'Result'] = 'Show'\n",
    "df.head(2)"
   ]
  },
  {
   "cell_type": "code",
   "execution_count": 17,
   "metadata": {},
   "outputs": [
    {
     "data": {
      "text/plain": [
       "62298"
      ]
     },
     "execution_count": 17,
     "metadata": {},
     "output_type": "execute_result"
    }
   ],
   "source": [
    "# check weather there are several data with same patient and several visits\n",
    "df['PatientId'].nunique()"
   ]
  },
  {
   "cell_type": "code",
   "execution_count": 18,
   "metadata": {},
   "outputs": [
    {
     "name": "stdout",
     "output_type": "stream",
     "text": [
      "count    110521.000000\n",
      "mean          3.540440\n",
      "std           6.562162\n",
      "min           1.000000\n",
      "25%           1.000000\n",
      "50%           2.000000\n",
      "75%           4.000000\n",
      "max          88.000000\n",
      "Name: Patient_counts, dtype: float64\n"
     ]
    },
    {
     "data": {
      "text/plain": [
       "<matplotlib.axes._subplots.AxesSubplot at 0x1c32f3f5550>"
      ]
     },
     "execution_count": 18,
     "metadata": {},
     "output_type": "execute_result"
    },
    {
     "data": {
      "image/png": "[encoded data removed]",
      "text/plain": [
       "<Figure size 432x288 with 1 Axes>"
      ]
     },
     "metadata": {
      "needs_background": "light"
     },
     "output_type": "display_data"
    }
   ],
   "source": [
    "# copy df to a new df_repeat\n",
    "df_repeat = df.copy()\n",
    "\n",
    "# count patients revisits\n",
    "Patient_counts = df_repeat['PatientId'].value_counts().rename('Patient_counts')\n",
    "df_repeat = df_repeat.merge(Patient_counts.to_frame(), left_on='PatientId',right_index=True)\n",
    "\n",
    "# check revisit statistic and histgraph\n",
    "print(df_repeat['Patient_counts'].describe())\n",
    "df_repeat['Patient_counts'].hist(bins=88)\n",
    "\n"
   ]
  },
  {
   "cell_type": "markdown",
   "metadata": {},
   "source": [
    "# A few patients had visisted the hospital more than 40 times in 40 days."
   ]
  },
  {
   "cell_type": "code",
   "execution_count": 19,
   "metadata": {},
   "outputs": [
    {
     "data": {
      "text/html": [
       "<div>\n",
       "<style scoped>\n",
       "    .dataframe tbody tr th:only-of-type {\n",
       "        vertical-align: middle;\n",
       "    }\n",
       "\n",
       "    .dataframe tbody tr th {\n",
       "        vertical-align: top;\n",
       "    }\n",
       "\n",
       "    .dataframe thead th {\n",
       "        text-align: right;\n",
       "    }\n",
       "</style>\n",
       "<table border=\"1\" class=\"dataframe\">\n",
       "  <thead>\n",
       "    <tr style=\"text-align: right;\">\n",
       "      <th></th>\n",
       "      <th>PatientId</th>\n",
       "      <th>AppointmentId</th>\n",
       "      <th>Gender</th>\n",
       "      <th>ScheduledDay</th>\n",
       "      <th>AppointmentDay</th>\n",
       "      <th>Age</th>\n",
       "      <th>Neighbourhood</th>\n",
       "      <th>Scholarship</th>\n",
       "      <th>Hypertension</th>\n",
       "      <th>Diabetes</th>\n",
       "      <th>Alcoholism</th>\n",
       "      <th>Handicap</th>\n",
       "      <th>SMS_received</th>\n",
       "      <th>No_show</th>\n",
       "      <th>ScheduledDay_Origin</th>\n",
       "      <th>Leadtime</th>\n",
       "      <th>Patient</th>\n",
       "      <th>Leadtime_cat</th>\n",
       "      <th>Result</th>\n",
       "      <th>Patient_counts</th>\n",
       "    </tr>\n",
       "  </thead>\n",
       "  <tbody>\n",
       "    <tr>\n",
       "      <th>3006</th>\n",
       "      <td>8.221459e+14</td>\n",
       "      <td>5638995</td>\n",
       "      <td>M</td>\n",
       "      <td>2016-04-29</td>\n",
       "      <td>2016-04-29</td>\n",
       "      <td>38</td>\n",
       "      <td>REDENÇÃO</td>\n",
       "      <td>0</td>\n",
       "      <td>0</td>\n",
       "      <td>0</td>\n",
       "      <td>0</td>\n",
       "      <td>0</td>\n",
       "      <td>0</td>\n",
       "      <td>No</td>\n",
       "      <td>2016-04-29T08:38:44Z</td>\n",
       "      <td>0</td>\n",
       "      <td>30-39</td>\n",
       "      <td>Sameday</td>\n",
       "      <td>Show</td>\n",
       "      <td>88</td>\n",
       "    </tr>\n",
       "    <tr>\n",
       "      <th>3060</th>\n",
       "      <td>8.221459e+14</td>\n",
       "      <td>5642878</td>\n",
       "      <td>M</td>\n",
       "      <td>2016-04-29</td>\n",
       "      <td>2016-04-29</td>\n",
       "      <td>38</td>\n",
       "      <td>REDENÇÃO</td>\n",
       "      <td>0</td>\n",
       "      <td>0</td>\n",
       "      <td>0</td>\n",
       "      <td>0</td>\n",
       "      <td>0</td>\n",
       "      <td>0</td>\n",
       "      <td>No</td>\n",
       "      <td>2016-04-29T18:02:42Z</td>\n",
       "      <td>0</td>\n",
       "      <td>30-39</td>\n",
       "      <td>Sameday</td>\n",
       "      <td>Show</td>\n",
       "      <td>88</td>\n",
       "    </tr>\n",
       "    <tr>\n",
       "      <th>3093</th>\n",
       "      <td>8.221459e+14</td>\n",
       "      <td>5640809</td>\n",
       "      <td>M</td>\n",
       "      <td>2016-04-29</td>\n",
       "      <td>2016-04-29</td>\n",
       "      <td>38</td>\n",
       "      <td>REDENÇÃO</td>\n",
       "      <td>0</td>\n",
       "      <td>0</td>\n",
       "      <td>0</td>\n",
       "      <td>0</td>\n",
       "      <td>0</td>\n",
       "      <td>0</td>\n",
       "      <td>No</td>\n",
       "      <td>2016-04-29T11:27:34Z</td>\n",
       "      <td>0</td>\n",
       "      <td>30-39</td>\n",
       "      <td>Sameday</td>\n",
       "      <td>Show</td>\n",
       "      <td>88</td>\n",
       "    </tr>\n",
       "    <tr>\n",
       "      <th>35675</th>\n",
       "      <td>8.221459e+14</td>\n",
       "      <td>5649163</td>\n",
       "      <td>M</td>\n",
       "      <td>2016-05-02</td>\n",
       "      <td>2016-05-02</td>\n",
       "      <td>38</td>\n",
       "      <td>REDENÇÃO</td>\n",
       "      <td>0</td>\n",
       "      <td>0</td>\n",
       "      <td>0</td>\n",
       "      <td>0</td>\n",
       "      <td>0</td>\n",
       "      <td>0</td>\n",
       "      <td>No</td>\n",
       "      <td>2016-05-02T17:57:36Z</td>\n",
       "      <td>0</td>\n",
       "      <td>30-39</td>\n",
       "      <td>Sameday</td>\n",
       "      <td>Show</td>\n",
       "      <td>88</td>\n",
       "    </tr>\n",
       "    <tr>\n",
       "      <th>25428</th>\n",
       "      <td>8.221459e+14</td>\n",
       "      <td>5649058</td>\n",
       "      <td>M</td>\n",
       "      <td>2016-05-02</td>\n",
       "      <td>2016-05-02</td>\n",
       "      <td>38</td>\n",
       "      <td>REDENÇÃO</td>\n",
       "      <td>0</td>\n",
       "      <td>0</td>\n",
       "      <td>0</td>\n",
       "      <td>0</td>\n",
       "      <td>0</td>\n",
       "      <td>0</td>\n",
       "      <td>No</td>\n",
       "      <td>2016-05-02T17:38:17Z</td>\n",
       "      <td>0</td>\n",
       "      <td>30-39</td>\n",
       "      <td>Sameday</td>\n",
       "      <td>Show</td>\n",
       "      <td>88</td>\n",
       "    </tr>\n",
       "  </tbody>\n",
       "</table>\n",
       "</div>"
      ],
      "text/plain": [
       "          PatientId  AppointmentId Gender ScheduledDay AppointmentDay  Age  \\\n",
       "3006   8.221459e+14        5638995      M   2016-04-29     2016-04-29   38   \n",
       "3060   8.221459e+14        5642878      M   2016-04-29     2016-04-29   38   \n",
       "3093   8.221459e+14        5640809      M   2016-04-29     2016-04-29   38   \n",
       "35675  8.221459e+14        5649163      M   2016-05-02     2016-05-02   38   \n",
       "25428  8.221459e+14        5649058      M   2016-05-02     2016-05-02   38   \n",
       "\n",
       "      Neighbourhood  Scholarship  Hypertension  Diabetes  Alcoholism  \\\n",
       "3006       REDENÇÃO            0             0         0           0   \n",
       "3060       REDENÇÃO            0             0         0           0   \n",
       "3093       REDENÇÃO            0             0         0           0   \n",
       "35675      REDENÇÃO            0             0         0           0   \n",
       "25428      REDENÇÃO            0             0         0           0   \n",
       "\n",
       "       Handicap  SMS_received No_show   ScheduledDay_Origin  Leadtime Patient  \\\n",
       "3006          0             0      No  2016-04-29T08:38:44Z         0   30-39   \n",
       "3060          0             0      No  2016-04-29T18:02:42Z         0   30-39   \n",
       "3093          0             0      No  2016-04-29T11:27:34Z         0   30-39   \n",
       "35675         0             0      No  2016-05-02T17:57:36Z         0   30-39   \n",
       "25428         0             0      No  2016-05-02T17:38:17Z         0   30-39   \n",
       "\n",
       "      Leadtime_cat Result  Patient_counts  \n",
       "3006       Sameday   Show              88  \n",
       "3060       Sameday   Show              88  \n",
       "3093       Sameday   Show              88  \n",
       "35675      Sameday   Show              88  \n",
       "25428      Sameday   Show              88  "
      ]
     },
     "execution_count": 19,
     "metadata": {},
     "output_type": "execute_result"
    }
   ],
   "source": [
    "df_repeat.query('Patient_counts==88').sort_values('AppointmentDay').head(5)\n"
   ]
  },
  {
   "cell_type": "markdown",
   "metadata": {},
   "source": [
    "These data looks rediculous, the patient id, gender, age and neighborhood is identical, indicating this is the same person for all these visits. And look at the appointment day, on 2016-04-29, he visited the office three times which seldomly happens in real life. And this patient has no preexisting condition, 100% show up in the appointment. I doubt this is some system generated data which is used to test the running of the hosptcial quenry management. Since we have no way to track back the origin of this data point, we will not discard this data point but drop any duplicated visits in the same day."
   ]
  },
  {
   "cell_type": "code",
   "execution_count": 20,
   "metadata": {},
   "outputs": [],
   "source": [
    "df_repeat.drop_duplicates(subset = ['PatientId', 'AppointmentDay'], keep='first',inplace=True)\n"
   ]
  },
  {
   "cell_type": "code",
   "execution_count": 21,
   "metadata": {},
   "outputs": [],
   "source": [
    "df_repeat.drop(['Patient_counts'], axis=1, inplace=True)"
   ]
  },
  {
   "cell_type": "code",
   "execution_count": 22,
   "metadata": {
    "scrolled": true
   },
   "outputs": [
    {
     "name": "stdout",
     "output_type": "stream",
     "text": [
      "count    101803.000000\n",
      "mean          2.566889\n",
      "std           2.482815\n",
      "min           1.000000\n",
      "25%           1.000000\n",
      "50%           2.000000\n",
      "75%           3.000000\n",
      "max          26.000000\n",
      "Name: Patient_counts, dtype: float64\n"
     ]
    },
    {
     "data": {
      "text/plain": [
       "<matplotlib.axes._subplots.AxesSubplot at 0x1c32f38c550>"
      ]
     },
     "execution_count": 22,
     "metadata": {},
     "output_type": "execute_result"
    },
    {
     "data": {
      "image/png": "[encoded data removed]",
      "text/plain": [
       "<Figure size 432x288 with 1 Axes>"
      ]
     },
     "metadata": {
      "needs_background": "light"
     },
     "output_type": "display_data"
    }
   ],
   "source": [
    "Patient_counts = df_repeat['PatientId'].value_counts().rename('Patient_counts')\n",
    "\n",
    "df_repeat = df_repeat.merge(Patient_counts.to_frame(),\n",
    "                                left_on='PatientId',\n",
    "                                right_index=True)\n",
    "\n",
    "print(df_repeat['Patient_counts'].describe())\n",
    "df_repeat['Patient_counts'].hist(bins =26)"
   ]
  },
  {
   "cell_type": "code",
   "execution_count": 23,
   "metadata": {},
   "outputs": [
    {
     "data": {
      "text/plain": [
       "0.07888093665457244"
      ]
     },
     "execution_count": 23,
     "metadata": {},
     "output_type": "execute_result"
    }
   ],
   "source": [
    "#calculate what percentage of data points have been dropped?\n",
    "(df.shape[0] - df_repeat.shape[0])/df.shape[0]"
   ]
  },
  {
   "cell_type": "code",
   "execution_count": 24,
   "metadata": {},
   "outputs": [],
   "source": [
    "df_repeat['PreviousApp'] = df_repeat.sort_values(by = ['PatientId','ScheduledDay']).groupby(['PatientId']).cumcount()+1\n"
   ]
  },
  {
   "cell_type": "code",
   "execution_count": 25,
   "metadata": {},
   "outputs": [
    {
     "name": "stdout",
     "output_type": "stream",
     "text": [
      "(61943, 21)\n",
      "22438\n"
     ]
    }
   ],
   "source": [
    "df_revisit = df_repeat[df_repeat.duplicated(['PatientId'],keep=False)]\n",
    "print(df_revisit.shape)\n",
    "print(df_revisit['PatientId'].nunique())"
   ]
  },
  {
   "cell_type": "code",
   "execution_count": 79,
   "metadata": {
    "scrolled": true
   },
   "outputs": [
    {
     "name": "stderr",
     "output_type": "stream",
     "text": [
      "C:\\Users\\Hong\\Anaconda3\\lib\\site-packages\\ipykernel_launcher.py:1: SettingWithCopyWarning: \n",
      "A value is trying to be set on a copy of a slice from a DataFrame.\n",
      "Try using .loc[row_indexer,col_indexer] = value instead\n",
      "\n",
      "See the caveats in the documentation: http://pandas.pydata.org/pandas-docs/stable/indexing.html#indexing-view-versus-copy\n",
      "  \"\"\"Entry point for launching an IPython kernel.\n"
     ]
    },
    {
     "data": {
      "text/html": [
       "<div>\n",
       "<style scoped>\n",
       "    .dataframe tbody tr th:only-of-type {\n",
       "        vertical-align: middle;\n",
       "    }\n",
       "\n",
       "    .dataframe tbody tr th {\n",
       "        vertical-align: top;\n",
       "    }\n",
       "\n",
       "    .dataframe thead th {\n",
       "        text-align: right;\n",
       "    }\n",
       "</style>\n",
       "<table border=\"1\" class=\"dataframe\">\n",
       "  <thead>\n",
       "    <tr style=\"text-align: right;\">\n",
       "      <th></th>\n",
       "      <th>PatientId</th>\n",
       "      <th>AppointmentId</th>\n",
       "      <th>Gender</th>\n",
       "      <th>ScheduledDay</th>\n",
       "      <th>AppointmentDay</th>\n",
       "      <th>Age</th>\n",
       "      <th>Neighbourhood</th>\n",
       "      <th>Scholarship</th>\n",
       "      <th>Hypertension</th>\n",
       "      <th>Diabetes</th>\n",
       "      <th>...</th>\n",
       "      <th>No_show</th>\n",
       "      <th>ScheduledDay_Origin</th>\n",
       "      <th>Leadtime</th>\n",
       "      <th>Patient</th>\n",
       "      <th>Leadtime_cat</th>\n",
       "      <th>Result</th>\n",
       "      <th>Patient_counts</th>\n",
       "      <th>PreviousApp</th>\n",
       "      <th>PreviousShow</th>\n",
       "      <th>ResultNo</th>\n",
       "    </tr>\n",
       "  </thead>\n",
       "  <tbody>\n",
       "    <tr>\n",
       "      <th>3</th>\n",
       "      <td>8.679512e+11</td>\n",
       "      <td>5642828</td>\n",
       "      <td>F</td>\n",
       "      <td>2016-04-29</td>\n",
       "      <td>2016-04-29</td>\n",
       "      <td>8</td>\n",
       "      <td>PONTAL DE CAMBURI</td>\n",
       "      <td>0</td>\n",
       "      <td>0</td>\n",
       "      <td>0</td>\n",
       "      <td>...</td>\n",
       "      <td>No</td>\n",
       "      <td>2016-04-29T17:29:31Z</td>\n",
       "      <td>0</td>\n",
       "      <td>0-9</td>\n",
       "      <td>Sameday</td>\n",
       "      <td>Show</td>\n",
       "      <td>2</td>\n",
       "      <td>2</td>\n",
       "      <td>Noshow</td>\n",
       "      <td>1.0</td>\n",
       "    </tr>\n",
       "    <tr>\n",
       "      <th>48641</th>\n",
       "      <td>8.679512e+11</td>\n",
       "      <td>5612472</td>\n",
       "      <td>F</td>\n",
       "      <td>2016-04-25</td>\n",
       "      <td>2016-05-19</td>\n",
       "      <td>8</td>\n",
       "      <td>PONTAL DE CAMBURI</td>\n",
       "      <td>0</td>\n",
       "      <td>0</td>\n",
       "      <td>0</td>\n",
       "      <td>...</td>\n",
       "      <td>Yes</td>\n",
       "      <td>2016-04-25T08:19:19Z</td>\n",
       "      <td>24</td>\n",
       "      <td>0-9</td>\n",
       "      <td>Threeweek</td>\n",
       "      <td>Noshow</td>\n",
       "      <td>2</td>\n",
       "      <td>1</td>\n",
       "      <td>Noshow</td>\n",
       "      <td>0.0</td>\n",
       "    </tr>\n",
       "    <tr>\n",
       "      <th>5</th>\n",
       "      <td>9.598513e+13</td>\n",
       "      <td>5626772</td>\n",
       "      <td>F</td>\n",
       "      <td>2016-04-27</td>\n",
       "      <td>2016-04-29</td>\n",
       "      <td>76</td>\n",
       "      <td>REPÚBLICA</td>\n",
       "      <td>0</td>\n",
       "      <td>1</td>\n",
       "      <td>0</td>\n",
       "      <td>...</td>\n",
       "      <td>No</td>\n",
       "      <td>2016-04-27T08:36:51Z</td>\n",
       "      <td>2</td>\n",
       "      <td>70-79</td>\n",
       "      <td>Oneweek</td>\n",
       "      <td>Show</td>\n",
       "      <td>2</td>\n",
       "      <td>1</td>\n",
       "      <td>Show</td>\n",
       "      <td>1.0</td>\n",
       "    </tr>\n",
       "    <tr>\n",
       "      <th>98967</th>\n",
       "      <td>9.598513e+13</td>\n",
       "      <td>5732325</td>\n",
       "      <td>F</td>\n",
       "      <td>2016-05-24</td>\n",
       "      <td>2016-06-01</td>\n",
       "      <td>76</td>\n",
       "      <td>REPÚBLICA</td>\n",
       "      <td>0</td>\n",
       "      <td>1</td>\n",
       "      <td>0</td>\n",
       "      <td>...</td>\n",
       "      <td>No</td>\n",
       "      <td>2016-05-24T11:19:51Z</td>\n",
       "      <td>8</td>\n",
       "      <td>70-79</td>\n",
       "      <td>Twoweek</td>\n",
       "      <td>Show</td>\n",
       "      <td>2</td>\n",
       "      <td>2</td>\n",
       "      <td>Show</td>\n",
       "      <td>1.0</td>\n",
       "    </tr>\n",
       "    <tr>\n",
       "      <th>7</th>\n",
       "      <td>3.449833e+12</td>\n",
       "      <td>5630575</td>\n",
       "      <td>F</td>\n",
       "      <td>2016-04-27</td>\n",
       "      <td>2016-04-29</td>\n",
       "      <td>39</td>\n",
       "      <td>GOIABEIRAS</td>\n",
       "      <td>0</td>\n",
       "      <td>0</td>\n",
       "      <td>0</td>\n",
       "      <td>...</td>\n",
       "      <td>Yes</td>\n",
       "      <td>2016-04-27T15:39:58Z</td>\n",
       "      <td>2</td>\n",
       "      <td>30-39</td>\n",
       "      <td>Oneweek</td>\n",
       "      <td>Noshow</td>\n",
       "      <td>2</td>\n",
       "      <td>1</td>\n",
       "      <td>Noshow</td>\n",
       "      <td>0.0</td>\n",
       "    </tr>\n",
       "  </tbody>\n",
       "</table>\n",
       "<p>5 rows × 23 columns</p>\n",
       "</div>"
      ],
      "text/plain": [
       "          PatientId  AppointmentId Gender ScheduledDay AppointmentDay  Age  \\\n",
       "3      8.679512e+11        5642828      F   2016-04-29     2016-04-29    8   \n",
       "48641  8.679512e+11        5612472      F   2016-04-25     2016-05-19    8   \n",
       "5      9.598513e+13        5626772      F   2016-04-27     2016-04-29   76   \n",
       "98967  9.598513e+13        5732325      F   2016-05-24     2016-06-01   76   \n",
       "7      3.449833e+12        5630575      F   2016-04-27     2016-04-29   39   \n",
       "\n",
       "           Neighbourhood  Scholarship  Hypertension  Diabetes  ...  No_show  \\\n",
       "3      PONTAL DE CAMBURI            0             0         0  ...       No   \n",
       "48641  PONTAL DE CAMBURI            0             0         0  ...      Yes   \n",
       "5              REPÚBLICA            0             1         0  ...       No   \n",
       "98967          REPÚBLICA            0             1         0  ...       No   \n",
       "7             GOIABEIRAS            0             0         0  ...      Yes   \n",
       "\n",
       "        ScheduledDay_Origin  Leadtime Patient Leadtime_cat  Result  \\\n",
       "3      2016-04-29T17:29:31Z         0     0-9      Sameday    Show   \n",
       "48641  2016-04-25T08:19:19Z        24     0-9    Threeweek  Noshow   \n",
       "5      2016-04-27T08:36:51Z         2   70-79      Oneweek    Show   \n",
       "98967  2016-05-24T11:19:51Z         8   70-79      Twoweek    Show   \n",
       "7      2016-04-27T15:39:58Z         2   30-39      Oneweek  Noshow   \n",
       "\n",
       "      Patient_counts PreviousApp PreviousShow  ResultNo  \n",
       "3                  2           2       Noshow       1.0  \n",
       "48641              2           1       Noshow       0.0  \n",
       "5                  2           1         Show       1.0  \n",
       "98967              2           2         Show       1.0  \n",
       "7                  2           1       Noshow       0.0  \n",
       "\n",
       "[5 rows x 23 columns]"
      ]
     },
     "execution_count": 79,
     "metadata": {},
     "output_type": "execute_result"
    }
   ],
   "source": [
    "df_revisit['PreviousShow'] = df_revisit.sort_values('PreviousApp',ascending = True).groupby('PatientId')['Result'].transform('first')\n",
    "df_revisit.head(5)"
   ]
  },
  {
   "cell_type": "markdown",
   "metadata": {},
   "source": [
    "<a id='eda'></a>\n",
    "# Exploratory Data Analysis\n",
    "> **Goals**: In this section of the report, we will analyze the data set based different features, including Age, Lead time, Scholarship(government supported), and Gender and see if there is some clear trend or correlations between these features and show up appointments. The feature analyzed is as following:\n",
    "\n",
    "\n",
    "\n",
    "### Lead time: \n",
    "> Commonly, the longer we wait for the appointment, the higher change we will forget about it. Even sometimes people write down in their canlendar, they still need some reminder if they usually do not check their calendar quite often."
   ]
  },
  {
   "cell_type": "code",
   "execution_count": 27,
   "metadata": {},
   "outputs": [],
   "source": [
    "# group patient noshow count by leadtime\n",
    "Show_leadtime_count = df_repeat.query('Result == \"Show\"').Leadtime_cat.value_counts(sort=False)\n",
    "Noshow_leadtime_count = df_repeat.query('Result == \"Noshow\"').Leadtime_cat.value_counts(sort=False)\n",
    "df_leadtime = pd.DataFrame({'Show':Show_leadtime_count, 'Noshow':Noshow_leadtime_count})"
   ]
  },
  {
   "cell_type": "code",
   "execution_count": 28,
   "metadata": {},
   "outputs": [
    {
     "data": {
      "image/png": "[encoded data removed]",
      "text/plain": [
       "<Figure size 576x360 with 2 Axes>"
      ]
     },
     "metadata": {
      "needs_background": "light"
     },
     "output_type": "display_data"
    }
   ],
   "source": [
    "#plot chart\n",
    "fig, ax1 = plt.subplots(figsize=(8,5))\n",
    "df_leadtime.plot(kind = 'bar', stacked = True, rot=0, ax = ax1)\n",
    "# add labels and title\n",
    "plt.ylabel('Counts', fontsize = 14)\n",
    "plt.xlabel('Leadtime', fontsize = 14)\n",
    "plt.title('Show and Noshow Appointments Counts by Leadtime', fontsize = 14)\n",
    "# proportion of Noshow\n",
    "\n",
    "No_show_P = df_repeat.query('Result == \"Noshow\"').Leadtime_cat.value_counts(sort=False)/df_repeat['Leadtime_cat'].value_counts(sort=False)\n",
    "#add lables\n",
    "ax2 = ax1.twinx()\n",
    "ax2.set_ylim([0, 0.5])\n",
    "sns.pointplot(x= No_show_P.index, y= No_show_P, color = 'r', ax=ax2)\n",
    "plt.ylabel('Probability of Noshow', fontsize =14, color = 'r')\n",
    "plt.show()"
   ]
  },
  {
   "cell_type": "markdown",
   "metadata": {},
   "source": [
    "> Shown in the above figure, the longer the lead time, the higher the no-show rate in the appoitments. But the largest difference comes from the sameday visits with others, one possible hypothesis is that some patients will feel better after the condition appears at the first time. However, some of them will not cancel their appointment once they feel better, resluting in higher no-show rate. "
   ]
  },
  {
   "cell_type": "markdown",
   "metadata": {},
   "source": [
    "### Age: \n",
    "> Commonly, the longer we wait for the appointment, the higher change we will forget about it. Even sometimes people write down in their canlendar, they still need some reminder if they usually do not check their calendar quite often."
   ]
  },
  {
   "cell_type": "code",
   "execution_count": 29,
   "metadata": {},
   "outputs": [],
   "source": [
    "# gorup patient showup by ages\n",
    "Show_Patient_count = df_repeat.query('Result == \"Show\"').Patient.value_counts(sort=False)\n",
    "Noshow_Patient_count = df_repeat.query('Result == \"Noshow\"').Patient.value_counts(sort=False)\n",
    "df_Patient = pd.DataFrame({'Show':Show_Patient_count, 'Noshow':Noshow_Patient_count})"
   ]
  },
  {
   "cell_type": "code",
   "execution_count": 30,
   "metadata": {},
   "outputs": [
    {
     "data": {
      "image/png": "[encoded data removed]",
      "text/plain": [
       "<Figure size 576x360 with 2 Axes>"
      ]
     },
     "metadata": {
      "needs_background": "light"
     },
     "output_type": "display_data"
    }
   ],
   "source": [
    "#plot chart\n",
    "fig, ax1 = plt.subplots(figsize=(8,5))\n",
    "df_Patient.plot(kind = 'bar', stacked = True, rot=0, ax = ax1)\n",
    "# add labels and title\n",
    "plt.ylabel('Counts', fontsize = 14)\n",
    "plt.xlabel('Age', fontsize = 14)\n",
    "plt.title('Show and Noshow appointments Counts by Patient', fontsize = 14)\n",
    "# proportion of Noshow\n",
    "\n",
    "No_show_P = df_repeat.query('Result == \"Noshow\"').Patient.value_counts(sort=False)/df_repeat['Patient'].value_counts(sort=False)\n",
    "\n",
    "ax2 = ax1.twinx()\n",
    "ax2.set_ylim([0.1, 0.3])\n",
    "sns.pointplot(x= No_show_P.index, y= No_show_P, color = 'r', ax=ax2)\n",
    "plt.ylabel('Probability of Noshow', fontsize =14,color = 'r')\n",
    "plt.show()"
   ]
  },
  {
   "cell_type": "markdown",
   "metadata": {},
   "source": [
    "### Scholarship: \n",
    "> Commonly, the longer we wait for the appointment, the higher change we will forget about it. Even sometimes people write down in their canlendar, they still need some reminder if they usually do not check their calendar quite often."
   ]
  },
  {
   "cell_type": "code",
   "execution_count": 31,
   "metadata": {},
   "outputs": [],
   "source": [
    "# count patient show and noshow by scholarship\n",
    "Scholarship_count_Show = df_repeat.query('Result == \"Show\"').Scholarship.value_counts()\n",
    "Scholarship_count_Noshow = df_repeat.query('Result == \"Noshow\"').Scholarship.value_counts()\n",
    "Scholarship_counts = pd.DataFrame({'Show':Scholarship_count_Show, \n",
    "                                  'Noshow':Scholarship_count_Noshow})"
   ]
  },
  {
   "cell_type": "code",
   "execution_count": 32,
   "metadata": {},
   "outputs": [
    {
     "data": {
      "image/png": "[encoded data removed]",
      "text/plain": [
       "<Figure size 576x360 with 2 Axes>"
      ]
     },
     "metadata": {
      "needs_background": "light"
     },
     "output_type": "display_data"
    }
   ],
   "source": [
    "fig, ax1 = plt.subplots(figsize=(8,5))\n",
    "Scholarship_counts.plot(kind = 'bar', stacked = True, rot=0, ax = ax1)\n",
    "# add labels and title\n",
    "plt.ylabel('Counts', fontsize = 14)\n",
    "plt.xlabel('Scholarship', fontsize = 14)\n",
    "plt.title('Show and Noshow appointments Counts by Scholarship', fontsize = 14)\n",
    "# proportion of Noshow\n",
    "\n",
    "No_show_P = df_repeat.query('Result == \"Noshow\"').Scholarship.value_counts(sort=False)/df_repeat['Scholarship'].value_counts(sort=False)\n",
    "\n",
    "ax2 = ax1.twinx()\n",
    "ax2.set_ylim([0, 0.5])\n",
    "sns.pointplot(x= No_show_P.index, y= No_show_P, color = 'r', ax=ax2)\n",
    "plt.ylabel('Probability of Noshow', fontsize =14, color = 'r')\n",
    "plt.show()"
   ]
  },
  {
   "cell_type": "markdown",
   "metadata": {},
   "source": [
    "### Gender: \n",
    "> Commonly, the longer we wait for the appointment, the higher change we will forget about it. Even sometimes people write down in their canlendar, they still need some reminder if they usually do not check their calendar quite often."
   ]
  },
  {
   "cell_type": "code",
   "execution_count": 33,
   "metadata": {},
   "outputs": [],
   "source": [
    "# count patient show and noshow by 'Gender'\n",
    "Gender_count_Show = df_repeat.query('Result == \"Show\"').Gender.value_counts()\n",
    "Gender_count_Noshow = df_repeat.query('Result == \"Noshow\"').Gender.value_counts()\n",
    "Gender_counts = pd.DataFrame({'Show':Gender_count_Show, \n",
    "                                  'Noshow':Gender_count_Noshow})"
   ]
  },
  {
   "cell_type": "code",
   "execution_count": 34,
   "metadata": {},
   "outputs": [
    {
     "data": {
      "image/png": "[encoded data removed]",
      "text/plain": [
       "<Figure size 576x360 with 2 Axes>"
      ]
     },
     "metadata": {
      "needs_background": "light"
     },
     "output_type": "display_data"
    }
   ],
   "source": [
    "fig, ax1 = plt.subplots(figsize=(8,5))\n",
    "Gender_counts.plot(kind = 'bar', stacked = True, rot=0 ,ax = ax1)\n",
    "# add labels and title\n",
    "plt.ylabel('Counts', fontsize = 14)\n",
    "plt.xlabel('Gender', fontsize = 14)\n",
    "plt.title('Show and Noshow appointments Counts by Gender', fontsize = 14)\n",
    "# proportion of Noshow\n",
    "\n",
    "No_show_P = df_repeat.query('Result == \"Noshow\"').Gender.value_counts(sort=False)/df_repeat['Gender'].value_counts(sort=False)\n",
    "\n",
    "ax2 = ax1.twinx()\n",
    "ax2.set_ylim([0, 0.5])\n",
    "sns.pointplot(x= ['Female','Male'], y= No_show_P, color = 'r', ax=ax2)\n",
    "plt.ylabel('Probability of Noshow',fontsize =14, color = 'r')\n",
    "plt.show()"
   ]
  },
  {
   "cell_type": "code",
   "execution_count": 35,
   "metadata": {},
   "outputs": [],
   "source": [
    "SMS_count_Show = df_repeat.query('Result == \"Show\"').SMS_received.value_counts()\n",
    "SMS_count_Noshow = df_repeat.query('Result == \"Noshow\"').SMS_received.value_counts()\n",
    "SMS_counts = pd.DataFrame({'Show':SMS_count_Show, \n",
    "                                  'Noshow':SMS_count_Noshow})"
   ]
  },
  {
   "cell_type": "code",
   "execution_count": 36,
   "metadata": {},
   "outputs": [
    {
     "data": {
      "image/png": "[encoded data removed]",
      "text/plain": [
       "<Figure size 576x360 with 2 Axes>"
      ]
     },
     "metadata": {
      "needs_background": "light"
     },
     "output_type": "display_data"
    }
   ],
   "source": [
    "fig, ax1 = plt.subplots(figsize=(8,5))\n",
    "SMS_counts.plot(kind = 'bar', stacked = True, rot=0 ,ax = ax1)\n",
    "# add labels and title\n",
    "plt.ylabel('Counts', fontsize = 14)\n",
    "plt.xlabel('SMS_received', fontsize = 14)\n",
    "plt.title('Show and Noshow appointments Counts by SMS_received original', fontsize = 14)\n",
    "# proportion of Noshow\n",
    "\n",
    "No_show_P = df_repeat.query('Result == \"Noshow\"').SMS_received.value_counts(sort=False)/df_repeat['SMS_received'].value_counts(sort=False)\n",
    "\n",
    "ax2 = ax1.twinx()\n",
    "ax2.set_ylim([0, 0.5])\n",
    "sns.pointplot(x= [0,1], y= No_show_P, color = 'r', ax=ax2)\n",
    "plt.ylabel('Probability of Noshow',fontsize =14, color = 'r')\n",
    "plt.show()\n"
   ]
  },
  {
   "cell_type": "code",
   "execution_count": 37,
   "metadata": {},
   "outputs": [],
   "source": [
    "# group patient noshow count by leadtime\n",
    "SMS_count = df_repeat.query('SMS_received == 1').Leadtime_cat.value_counts(sort=False)\n",
    "NoSMS_count = df_repeat.query('SMS_received == 0').Leadtime_cat.value_counts(sort=False)\n",
    "df_SMS = pd.DataFrame({'SMS':SMS_count, 'NoSMS':NoSMS_count})"
   ]
  },
  {
   "cell_type": "code",
   "execution_count": 38,
   "metadata": {},
   "outputs": [
    {
     "data": {
      "image/png": "[encoded data removed]",
      "text/plain": [
       "<Figure size 576x360 with 2 Axes>"
      ]
     },
     "metadata": {
      "needs_background": "light"
     },
     "output_type": "display_data"
    }
   ],
   "source": [
    "#plot chart\n",
    "fig, ax1 = plt.subplots(figsize=(8,5))\n",
    "df_SMS.plot(kind = 'bar', stacked = True, rot=0, ax = ax1)\n",
    "# add labels and title\n",
    "plt.ylabel('Counts', fontsize = 14)\n",
    "plt.xlabel('Leadtime', fontsize = 14)\n",
    "plt.title('SMS received by Leadtime', fontsize = 14)\n",
    "\n",
    "# proportion of Noshow\n",
    "No_show_P = df_repeat.query('Result == \"Noshow\"').Leadtime_cat.value_counts(sort=False)/df_repeat['Leadtime_cat'].value_counts(sort=False)\n",
    "#add lables\n",
    "ax2 = ax1.twinx()\n",
    "ax2.set_ylim([0, 0.5])\n",
    "sns.pointplot(x= No_show_P.index, y= No_show_P, color = 'r', ax=ax2)\n",
    "plt.ylabel('Probability of Noshow', fontsize =14, color = 'r')\n",
    "plt.show()\n"
   ]
  },
  {
   "cell_type": "code",
   "execution_count": 39,
   "metadata": {},
   "outputs": [
    {
     "data": {
      "text/plain": [
       "Leadtime\n",
       "0      0.000\n",
       "1      0.000\n",
       "2      0.000\n",
       "82     0.000\n",
       "105    0.000\n",
       "108    0.000\n",
       "126    0.000\n",
       "133    0.000\n",
       "162    0.000\n",
       "80     0.125\n",
       "Name: SMS_received, dtype: float64"
      ]
     },
     "execution_count": 39,
     "metadata": {},
     "output_type": "execute_result"
    }
   ],
   "source": [
    "df_repeat.groupby('Leadtime')['SMS_received'].mean().sort_values().head(10)\n"
   ]
  },
  {
   "cell_type": "code",
   "execution_count": 40,
   "metadata": {},
   "outputs": [
    {
     "data": {
      "text/plain": [
       "(56046, 21)"
      ]
     },
     "execution_count": 40,
     "metadata": {},
     "output_type": "execute_result"
    }
   ],
   "source": [
    "df_SMS = df_repeat.query('Leadtime >2 ')\n",
    "df_SMS.shape"
   ]
  },
  {
   "cell_type": "code",
   "execution_count": 41,
   "metadata": {},
   "outputs": [],
   "source": [
    "SMS_count_Show = df_SMS.query('Result == \"Show\"').SMS_received.value_counts()\n",
    "SMS_count_Noshow = df_SMS.query('Result == \"Noshow\"').SMS_received.value_counts()\n",
    "SMS_counts = pd.DataFrame({'Show':SMS_count_Show, \n",
    "                                  'Noshow':SMS_count_Noshow})"
   ]
  },
  {
   "cell_type": "code",
   "execution_count": 42,
   "metadata": {},
   "outputs": [
    {
     "data": {
      "image/png": "[encoded data removed]",
      "text/plain": [
       "<Figure size 576x360 with 2 Axes>"
      ]
     },
     "metadata": {
      "needs_background": "light"
     },
     "output_type": "display_data"
    }
   ],
   "source": [
    "fig, ax1 = plt.subplots(figsize=(8,5))\n",
    "SMS_counts.plot(kind = 'bar', stacked = True, rot=0 ,ax = ax1)\n",
    "# add labels and title\n",
    "plt.ylabel('Counts', fontsize = 14)\n",
    "plt.xlabel('SMS_received', fontsize = 14)\n",
    "plt.title('Show and Noshow appointments Counts by SMS_received (Leadtime >2)', fontsize = 14)\n",
    "# proportion of Noshow\n",
    "\n",
    "No_show_P = df_SMS.query('Result == \"Noshow\"').SMS_received.value_counts(sort=False)/df_SMS['SMS_received'].value_counts(sort=False)\n",
    "\n",
    "ax2 = ax1.twinx()\n",
    "ax2.set_ylim([0, 0.5])\n",
    "sns.pointplot(x= ['0','1'], y= No_show_P, color = 'r', ax=ax2)\n",
    "plt.ylabel('Probability of Noshow',fontsize =14, color = 'r')\n",
    "plt.show()\n"
   ]
  },
  {
   "cell_type": "code",
   "execution_count": 80,
   "metadata": {},
   "outputs": [],
   "source": [
    "Revisit_count_Show = df_revisit.query('Result == \"Show\"').PreviousShow.value_counts()\n",
    "Revisit_count_Noshow = df_revisit.query('Result == \"Noshow\"').PreviousShow.value_counts()\n",
    "Revisit_counts = pd.DataFrame({'Show':Revisit_count_Show, \n",
    "                                  'Noshow':Revisit_count_Noshow})"
   ]
  },
  {
   "cell_type": "code",
   "execution_count": 87,
   "metadata": {},
   "outputs": [
    {
     "data": {
      "image/png": "[encoded data removed]",
      "text/plain": [
       "<Figure size 576x360 with 1 Axes>"
      ]
     },
     "metadata": {
      "needs_background": "light"
     },
     "output_type": "display_data"
    }
   ],
   "source": [
    "fig, ax1 = plt.subplots(figsize=(8,5))\n",
    "Revisit_counts.plot(kind = 'bar', stacked = True, rot=0 ,ax = ax1)\n",
    "# add labels and title\n",
    "plt.ylabel('Counts', fontsize = 14)\n",
    "plt.xlabel('First Appointment ', fontsize = 14)\n",
    "plt.title('Show and Noshow appointments Counts by First appointment', fontsize = 14)\n",
    "# proportion of Noshow\n",
    "\n",
    "#No_show_P = df_revisit.query('Result == \"Show\"').PreviousShow.value_counts(sort=False)/df_revisit['PreviousShow'].value_counts(sort=False)\n",
    "\n",
    "#ax2 = ax1.twinx()\n",
    "ax2.set_ylim([0, 1])\n",
    "sns.pointplot(x= ['NoShow','Show'], y= No_show_P, color = 'r', ax=ax2)\n",
    "plt.ylabel('Probability of Noshow',fontsize =14, color = 'r')\n",
    "plt.show()"
   ]
  },
  {
   "cell_type": "markdown",
   "metadata": {},
   "source": [
    "<a id='Prediction'></a>\n",
    "# Modeling and Prediction\n",
    "> **Goals**: In this section of the report, we will predict whether or not a patient will show up. Firstly, we will try to find the most important features for train model. Then, we will evaluate our model.From previous data explore, it seems like the lead time and age has a distinguish trend. Scikit has some package which can help us decide the importance of the features. \n",
    "\n",
    "\n",
    "\n",
    "### Feature selection: \n",
    ">From previous data explore, it seems like the lead time and age has a distinguish trend. Scikit has some package which can help us decide the importance of the features. "
   ]
  },
  {
   "cell_type": "code",
   "execution_count": 45,
   "metadata": {},
   "outputs": [
    {
     "data": {
      "text/html": [
       "<div>\n",
       "<style scoped>\n",
       "    .dataframe tbody tr th:only-of-type {\n",
       "        vertical-align: middle;\n",
       "    }\n",
       "\n",
       "    .dataframe tbody tr th {\n",
       "        vertical-align: top;\n",
       "    }\n",
       "\n",
       "    .dataframe thead th {\n",
       "        text-align: right;\n",
       "    }\n",
       "</style>\n",
       "<table border=\"1\" class=\"dataframe\">\n",
       "  <thead>\n",
       "    <tr style=\"text-align: right;\">\n",
       "      <th></th>\n",
       "      <th>Gender</th>\n",
       "      <th>Age</th>\n",
       "      <th>Scholarship</th>\n",
       "      <th>Hypertension</th>\n",
       "      <th>Diabetes</th>\n",
       "      <th>Alcoholism</th>\n",
       "      <th>Handicap</th>\n",
       "      <th>SMS_received</th>\n",
       "      <th>Leadtime</th>\n",
       "      <th>ResultNo</th>\n",
       "    </tr>\n",
       "  </thead>\n",
       "  <tbody>\n",
       "    <tr>\n",
       "      <th>0</th>\n",
       "      <td>0</td>\n",
       "      <td>62</td>\n",
       "      <td>0</td>\n",
       "      <td>1</td>\n",
       "      <td>0</td>\n",
       "      <td>0</td>\n",
       "      <td>0</td>\n",
       "      <td>0</td>\n",
       "      <td>0</td>\n",
       "      <td>1.0</td>\n",
       "    </tr>\n",
       "    <tr>\n",
       "      <th>1</th>\n",
       "      <td>1</td>\n",
       "      <td>56</td>\n",
       "      <td>0</td>\n",
       "      <td>0</td>\n",
       "      <td>0</td>\n",
       "      <td>0</td>\n",
       "      <td>0</td>\n",
       "      <td>0</td>\n",
       "      <td>0</td>\n",
       "      <td>1.0</td>\n",
       "    </tr>\n",
       "  </tbody>\n",
       "</table>\n",
       "</div>"
      ],
      "text/plain": [
       "   Gender  Age  Scholarship  Hypertension  Diabetes  Alcoholism  Handicap  \\\n",
       "0       0   62            0             1         0           0         0   \n",
       "1       1   56            0             0         0           0         0   \n",
       "\n",
       "   SMS_received  Leadtime  ResultNo  \n",
       "0             0         0       1.0  \n",
       "1             0         0       1.0  "
      ]
     },
     "execution_count": 45,
     "metadata": {},
     "output_type": "execute_result"
    }
   ],
   "source": [
    "df_repeat.loc[df_repeat['No_show']=='Yes', 'ResultNo'] = 0\n",
    "df_repeat.loc[df_repeat['No_show']=='No', 'ResultNo'] = 1\n",
    "df_model = df_repeat[['Gender', 'Age', 'Scholarship', 'Hypertension', 'Diabetes', 'Alcoholism', 'Handicap', 'SMS_received', 'Leadtime', 'ResultNo']].copy()\n",
    "df_model.loc[df_model['Gender']=='F',\"Gender\"] = 0\n",
    "df_model.loc[df_model['Gender']=='M','Gender'] = 1\n",
    "\n",
    "df_model.head(2)\n"
   ]
  },
  {
   "cell_type": "code",
   "execution_count": 46,
   "metadata": {},
   "outputs": [],
   "source": [
    "# import sklearn feature_selection\n",
    "from sklearn.feature_selection import SelectKBest\n",
    "from sklearn.feature_selection import chi2\n",
    "\n",
    "# Select features and labels\n",
    "X = df_model.iloc[:,0:9 ]\n",
    "y = df_model.iloc[:, -1]"
   ]
  },
  {
   "cell_type": "code",
   "execution_count": 47,
   "metadata": {},
   "outputs": [
    {
     "data": {
      "text/html": [
       "<div>\n",
       "<style scoped>\n",
       "    .dataframe tbody tr th:only-of-type {\n",
       "        vertical-align: middle;\n",
       "    }\n",
       "\n",
       "    .dataframe tbody tr th {\n",
       "        vertical-align: top;\n",
       "    }\n",
       "\n",
       "    .dataframe thead th {\n",
       "        text-align: right;\n",
       "    }\n",
       "</style>\n",
       "<table border=\"1\" class=\"dataframe\">\n",
       "  <thead>\n",
       "    <tr style=\"text-align: right;\">\n",
       "      <th></th>\n",
       "      <th>Specs</th>\n",
       "      <th>Score</th>\n",
       "    </tr>\n",
       "  </thead>\n",
       "  <tbody>\n",
       "    <tr>\n",
       "      <th>0</th>\n",
       "      <td>Gender</td>\n",
       "      <td>1.414402</td>\n",
       "    </tr>\n",
       "    <tr>\n",
       "      <th>5</th>\n",
       "      <td>Alcoholism</td>\n",
       "      <td>3.720664</td>\n",
       "    </tr>\n",
       "    <tr>\n",
       "      <th>6</th>\n",
       "      <td>Handicap</td>\n",
       "      <td>8.567701</td>\n",
       "    </tr>\n",
       "    <tr>\n",
       "      <th>4</th>\n",
       "      <td>Diabetes</td>\n",
       "      <td>24.946573</td>\n",
       "    </tr>\n",
       "    <tr>\n",
       "      <th>2</th>\n",
       "      <td>Scholarship</td>\n",
       "      <td>76.314758</td>\n",
       "    </tr>\n",
       "    <tr>\n",
       "      <th>3</th>\n",
       "      <td>Hypertension</td>\n",
       "      <td>110.239885</td>\n",
       "    </tr>\n",
       "    <tr>\n",
       "      <th>7</th>\n",
       "      <td>SMS_received</td>\n",
       "      <td>1140.077630</td>\n",
       "    </tr>\n",
       "    <tr>\n",
       "      <th>1</th>\n",
       "      <td>Age</td>\n",
       "      <td>5116.228591</td>\n",
       "    </tr>\n",
       "    <tr>\n",
       "      <th>8</th>\n",
       "      <td>Leadtime</td>\n",
       "      <td>78215.953338</td>\n",
       "    </tr>\n",
       "  </tbody>\n",
       "</table>\n",
       "</div>"
      ],
      "text/plain": [
       "          Specs         Score\n",
       "0        Gender      1.414402\n",
       "5    Alcoholism      3.720664\n",
       "6      Handicap      8.567701\n",
       "4      Diabetes     24.946573\n",
       "2   Scholarship     76.314758\n",
       "3  Hypertension    110.239885\n",
       "7  SMS_received   1140.077630\n",
       "1           Age   5116.228591\n",
       "8      Leadtime  78215.953338"
      ]
     },
     "execution_count": 47,
     "metadata": {},
     "output_type": "execute_result"
    }
   ],
   "source": [
    "# build feature selection model\n",
    "bestfeatures = SelectKBest(score_func=chi2, k=9)\n",
    "fit = bestfeatures.fit(X,y)\n",
    "dfscores = pd.DataFrame(fit.scores_)\n",
    "dfcolumns = pd.DataFrame(X.columns)\n",
    "featureScores = pd.concat([dfcolumns,dfscores],axis=1)\n",
    "featureScores.columns = ['Specs', 'Score']\n",
    "featureScores.sort_values('Score')"
   ]
  },
  {
   "cell_type": "code",
   "execution_count": 48,
   "metadata": {},
   "outputs": [
    {
     "name": "stderr",
     "output_type": "stream",
     "text": [
      "C:\\Users\\Hong\\Anaconda3\\lib\\site-packages\\sklearn\\ensemble\\forest.py:245: FutureWarning: The default value of n_estimators will change from 10 in version 0.20 to 100 in 0.22.\n",
      "  \"10 in version 0.20 to 100 in 0.22.\", FutureWarning)\n"
     ]
    },
    {
     "data": {
      "text/plain": [
       "ExtraTreesClassifier(bootstrap=False, class_weight=None, criterion='gini',\n",
       "                     max_depth=None, max_features='auto', max_leaf_nodes=None,\n",
       "                     min_impurity_decrease=0.0, min_impurity_split=None,\n",
       "                     min_samples_leaf=1, min_samples_split=2,\n",
       "                     min_weight_fraction_leaf=0.0, n_estimators=10, n_jobs=None,\n",
       "                     oob_score=False, random_state=None, verbose=0,\n",
       "                     warm_start=False)"
      ]
     },
     "execution_count": 48,
     "metadata": {},
     "output_type": "execute_result"
    }
   ],
   "source": [
    "from sklearn.ensemble import ExtraTreesClassifier\n",
    "model = ExtraTreesClassifier()\n",
    "model.fit(X,y)"
   ]
  },
  {
   "cell_type": "code",
   "execution_count": 49,
   "metadata": {},
   "outputs": [
    {
     "name": "stdout",
     "output_type": "stream",
     "text": [
      "[0.00694908 0.39039657 0.00415435 0.00607476 0.00429103 0.00374706\n",
      " 0.00727522 0.03883946 0.53827248]\n"
     ]
    }
   ],
   "source": [
    "print(model.feature_importances_)"
   ]
  },
  {
   "cell_type": "code",
   "execution_count": 50,
   "metadata": {},
   "outputs": [
    {
     "data": {
      "image/png": "[encoded data removed]",
      "text/plain": [
       "<Figure size 432x288 with 1 Axes>"
      ]
     },
     "metadata": {
      "needs_background": "light"
     },
     "output_type": "display_data"
    }
   ],
   "source": [
    "feat_importances = pd.Series(model.feature_importances_, index=X.columns)\n",
    "feat_importances.nlargest(10).plot(kind='barh')\n",
    "plt.show()"
   ]
  },
  {
   "cell_type": "code",
   "execution_count": null,
   "metadata": {},
   "outputs": [],
   "source": []
  },
  {
   "cell_type": "markdown",
   "metadata": {},
   "source": [
    "### Modeling: \n",
    ">From previous data explore, it seems like the lead time and age has a distinguish trend. Scikit has some package which can help us decide the importance of the features. "
   ]
  },
  {
   "cell_type": "code",
   "execution_count": 51,
   "metadata": {},
   "outputs": [
    {
     "data": {
      "text/plain": [
       "1.0    20385\n",
       "0.0     5066\n",
       "Name: ResultNo, dtype: int64"
      ]
     },
     "execution_count": 51,
     "metadata": {},
     "output_type": "execute_result"
    }
   ],
   "source": [
    "# split dataset into train and test \n",
    "from sklearn.model_selection import train_test_split\n",
    "X_train, X_test, y_train, y_test = train_test_split(df_model[['Age','Leadtime','Hypertension','Scholarship']], df_model['ResultNo'], test_size = 0.25, random_state=25 )\n",
    "y_test.value_counts()"
   ]
  },
  {
   "cell_type": "code",
   "execution_count": 52,
   "metadata": {},
   "outputs": [],
   "source": [
    "# import classifier\n",
    "from sklearn.linear_model import LogisticRegression \n",
    "from sklearn import tree\n",
    "from sklearn.ensemble import RandomForestClassifier\n",
    "from sklearn.metrics import classification_report\n",
    "from sklearn.metrics import confusion_matrix, accuracy_score"
   ]
  },
  {
   "cell_type": "code",
   "execution_count": 53,
   "metadata": {},
   "outputs": [],
   "source": [
    "import numpy as np\n",
    "\n",
    "\n",
    "def plot_confusion_matrix(cm,\n",
    "                          target_names,\n",
    "                          title='Confusion matrix',\n",
    "                          cmap=None,\n",
    "                          normalize=True):\n",
    "    \"\"\"\n",
    "    given a sklearn confusion matrix (cm), make a nice plot\n",
    "\n",
    "    Arguments\n",
    "    ---------\n",
    "    cm:           confusion matrix from sklearn.metrics.confusion_matrix\n",
    "\n",
    "    target_names: given classification classes such as [0, 1, 2]\n",
    "                  the class names, for example: ['high', 'medium', 'low']\n",
    "\n",
    "    title:        the text to display at the top of the matrix\n",
    "\n",
    "    cmap:         the gradient of the values displayed from matplotlib.pyplot.cm\n",
    "                  see http://matplotlib.org/examples/color/colormaps_reference.html\n",
    "                  plt.get_cmap('jet') or plt.cm.Blues\n",
    "\n",
    "    normalize:    If False, plot the raw numbers\n",
    "                  If True, plot the proportions\n",
    "\n",
    "    Usage\n",
    "    -----\n",
    "    plot_confusion_matrix(cm           = cm,                  # confusion matrix created by\n",
    "                                                              # sklearn.metrics.confusion_matrix\n",
    "                          normalize    = True,                # show proportions\n",
    "                          target_names = y_labels_vals,       # list of names of the classes\n",
    "                          title        = best_estimator_name) # title of graph\n",
    "\n",
    "    Citiation\n",
    "    ---------\n",
    "    http://scikit-learn.org/stable/auto_examples/model_selection/plot_confusion_matrix.html\n",
    "\n",
    "    \"\"\"\n",
    "    import matplotlib.pyplot as plt\n",
    "    import numpy as np\n",
    "    import itertools\n",
    "\n",
    "    accuracy = np.trace(cm) / float(np.sum(cm))\n",
    "    misclass = 1 - accuracy\n",
    "\n",
    "    if cmap is None:\n",
    "        cmap = plt.get_cmap('Blues')\n",
    "\n",
    "    plt.figure(figsize=(8, 6))\n",
    "    plt.imshow(cm, interpolation='nearest', cmap=cmap)\n",
    "    plt.title(title)\n",
    "    plt.colorbar()\n",
    "\n",
    "    if target_names is not None:\n",
    "        tick_marks = np.arange(len(target_names))\n",
    "        plt.xticks(tick_marks, target_names, rotation=45)\n",
    "        plt.yticks(tick_marks, target_names)\n",
    "\n",
    "    if normalize:\n",
    "        cm = cm.astype('float') / cm.sum(axis=1)[:, np.newaxis]\n",
    "\n",
    "\n",
    "    thresh = cm.max() / 1.5 if normalize else cm.max() / 2\n",
    "    for i, j in itertools.product(range(cm.shape[0]), range(cm.shape[1])):\n",
    "        if normalize:\n",
    "            plt.text(j, i, \"{:0.4f}\".format(cm[i, j]),\n",
    "                     horizontalalignment=\"center\",\n",
    "                     color=\"white\" if cm[i, j] > thresh else \"black\")\n",
    "        else:\n",
    "            plt.text(j, i, \"{:,}\".format(cm[i, j]),\n",
    "                     horizontalalignment=\"center\",\n",
    "                     color=\"white\" if cm[i, j] > thresh else \"black\")\n",
    "\n",
    "\n",
    "    plt.tight_layout()\n",
    "    plt.ylabel('True label')\n",
    "    plt.xlabel('Predicted label\\naccuracy={:0.4f}; misclass={:0.4f}'.format(accuracy, misclass))\n",
    "    plt.show()\n",
    "\n"
   ]
  },
  {
   "cell_type": "code",
   "execution_count": 54,
   "metadata": {},
   "outputs": [],
   "source": [
    "# create an array of Classifiers\n",
    "classifiers = []\n",
    "model1 = LogisticRegression(random_state=0, penalty='l2', C=1, fit_intercept=True, solver='liblinear')\n",
    "classifiers.append(model1)\n",
    "model2 = RandomForestClassifier(n_estimators=100, criterion='entropy', max_features='auto', random_state=0)\n",
    "classifiers.append(model2)\n",
    "model3 = tree.DecisionTreeClassifier(random_state=0, criterion='entropy', splitter='best')\n",
    "classifiers.append(model3)"
   ]
  },
  {
   "cell_type": "code",
   "execution_count": 55,
   "metadata": {},
   "outputs": [
    {
     "name": "stdout",
     "output_type": "stream",
     "text": [
      "Accuracy of LogisticRegression is 0.7978075517661388\n",
      "Confusion Matrix of LogisticRegression is [[   95  4971]\n",
      " [  175 20210]]\n",
      "Classifier report of LogisticRegression is               precision    recall  f1-score   support\n",
      "\n",
      "      Noshow       0.35      0.02      0.04      5066\n",
      "        Show       0.80      0.99      0.89     20385\n",
      "\n",
      "    accuracy                           0.80     25451\n",
      "   macro avg       0.58      0.51      0.46     25451\n",
      "weighted avg       0.71      0.80      0.72     25451\n",
      "\n",
      "Accuracy of RandomForestClassifier is 0.7746257514439511\n",
      "Confusion Matrix of RandomForestClassifier is [[  656  4410]\n",
      " [ 1326 19059]]\n",
      "Classifier report of RandomForestClassifier is               precision    recall  f1-score   support\n",
      "\n",
      "      Noshow       0.33      0.13      0.19      5066\n",
      "        Show       0.81      0.93      0.87     20385\n",
      "\n",
      "    accuracy                           0.77     25451\n",
      "   macro avg       0.57      0.53      0.53     25451\n",
      "weighted avg       0.72      0.77      0.73     25451\n",
      "\n",
      "Accuracy of DecisionTreeClassifier is 0.7652744489411025\n",
      "Confusion Matrix of DecisionTreeClassifier is [[  877  4189]\n",
      " [ 1785 18600]]\n",
      "Classifier report of DecisionTreeClassifier is               precision    recall  f1-score   support\n",
      "\n",
      "      Noshow       0.33      0.17      0.23      5066\n",
      "        Show       0.82      0.91      0.86     20385\n",
      "\n",
      "    accuracy                           0.77     25451\n",
      "   macro avg       0.57      0.54      0.54     25451\n",
      "weighted avg       0.72      0.77      0.74     25451\n",
      "\n"
     ]
    }
   ],
   "source": [
    "for clf in classifiers:\n",
    "    clf.fit(X_train, y_train)\n",
    "    y_pred= clf.predict(X_test)\n",
    "    acc = accuracy_score(y_test, y_pred)\n",
    "    print(\"Accuracy of %s is %s\"%(type(clf).__name__, acc))\n",
    "    cm = confusion_matrix(y_test, y_pred)\n",
    "    print(\"Confusion Matrix of %s is %s\"%(type(clf).__name__,cm))\n",
    "    cr = classification_report(y_test, y_pred, target_names=['Noshow', 'Show'])\n",
    "    print(\"Classifier report of %s is %s\"%(type(clf).__name__, cr))\n",
    "   "
   ]
  },
  {
   "cell_type": "markdown",
   "metadata": {},
   "source": [
    "### Random Forest Classifier"
   ]
  },
  {
   "cell_type": "code",
   "execution_count": 56,
   "metadata": {},
   "outputs": [],
   "source": [
    "from sklearn.ensemble import RandomForestClassifier\n",
    "from sklearn.datasets import make_classification\n",
    "RanF = RandomForestClassifier(n_estimators=100, criterion='entropy', max_features='auto', random_state=0)\n",
    "RanF.fit(X_train,y_train)\n",
    "RanF_y_predict = RanF.predict(X_test)"
   ]
  },
  {
   "cell_type": "code",
   "execution_count": 57,
   "metadata": {},
   "outputs": [
    {
     "name": "stdout",
     "output_type": "stream",
     "text": [
      "Accuarcy of DecisionTree Classifier: 0.7746257514439511\n",
      "              precision    recall  f1-score   support\n",
      "\n",
      "      Noshow       0.33      0.13      0.19      5066\n",
      "        Show       0.81      0.93      0.87     20385\n",
      "\n",
      "    accuracy                           0.77     25451\n",
      "   macro avg       0.57      0.53      0.53     25451\n",
      "weighted avg       0.72      0.77      0.73     25451\n",
      "\n"
     ]
    },
    {
     "data": {
      "image/png": "[encoded data removed]",
      "text/plain": [
       "<Figure size 576x432 with 2 Axes>"
      ]
     },
     "metadata": {
      "needs_background": "light"
     },
     "output_type": "display_data"
    },
    {
     "data": {
      "image/png": "[encoded data removed]",
      "text/plain": [
       "<Figure size 576x432 with 2 Axes>"
      ]
     },
     "metadata": {
      "needs_background": "light"
     },
     "output_type": "display_data"
    }
   ],
   "source": [
    "print('Accuarcy of DecisionTree Classifier:', RanF.score(X_test, y_test))\n",
    "print(classification_report(y_test, RanF_y_predict, target_names=['Noshow', 'Show']))\n",
    "\n",
    "RanF_confusion = confusion_matrix(y_test, RanF_y_predict)\n",
    "plot_confusion_matrix(cm           = RanF_confusion, \n",
    "                      normalize    = False,\n",
    "                      target_names = ['Noshow', 'Show'],\n",
    "                      title        = \"Confusion Matrix\")\n",
    "plot_confusion_matrix(cm           = RanF_confusion, \n",
    "                      normalize    = True,\n",
    "                      target_names = ['Noshow', 'Show'],\n",
    "                      title        = \"Confusion Matrix\")"
   ]
  },
  {
   "cell_type": "markdown",
   "metadata": {},
   "source": [
    "### Oversample"
   ]
  },
  {
   "cell_type": "code",
   "execution_count": 58,
   "metadata": {},
   "outputs": [],
   "source": [
    "# create show and noshow data\n",
    "y_show = y_train[y_train == 1]\n",
    "X_show = X_train.loc[y_show.index]\n",
    "\n",
    "y_noshow = y_train[y_train == 0]\n",
    "X_noshow =X_train.loc[y_noshow.index]"
   ]
  },
  {
   "cell_type": "code",
   "execution_count": 59,
   "metadata": {},
   "outputs": [],
   "source": [
    "oversample_X = pd.concat([X_show, X_noshow,X_noshow,X_noshow,X_noshow,])\n",
    "oversample_y = pd.concat([y_show, y_noshow, y_noshow,y_noshow,y_noshow,])"
   ]
  },
  {
   "cell_type": "code",
   "execution_count": 60,
   "metadata": {},
   "outputs": [],
   "source": [
    "RanF_oversample = RandomForestClassifier(n_estimators=100, criterion='entropy', max_features='auto', random_state=0)\n",
    "RanF_oversample.fit(oversample_X,oversample_y)\n",
    "RanF_oversample_y_predict = RanF_oversample.predict(X_test)"
   ]
  },
  {
   "cell_type": "code",
   "execution_count": 61,
   "metadata": {},
   "outputs": [
    {
     "name": "stdout",
     "output_type": "stream",
     "text": [
      "Accuarcy of DecisionTree Classifier: 0.6305449687635063\n",
      "              precision    recall  f1-score   support\n",
      "\n",
      "      Noshow       0.30      0.62      0.40      5066\n",
      "        Show       0.87      0.63      0.73     20385\n",
      "\n",
      "    accuracy                           0.63     25451\n",
      "   macro avg       0.58      0.63      0.57     25451\n",
      "weighted avg       0.76      0.63      0.67     25451\n",
      "\n"
     ]
    },
    {
     "data": {
      "image/png": "[encoded data removed]",
      "text/plain": [
       "<Figure size 576x432 with 2 Axes>"
      ]
     },
     "metadata": {
      "needs_background": "light"
     },
     "output_type": "display_data"
    },
    {
     "data": {
      "image/png": "[encoded data removed]",
      "text/plain": [
       "<Figure size 576x432 with 2 Axes>"
      ]
     },
     "metadata": {
      "needs_background": "light"
     },
     "output_type": "display_data"
    }
   ],
   "source": [
    "print('Accuarcy of DecisionTree Classifier:', RanF_oversample.score(X_test, y_test))\n",
    "print(classification_report(y_test, RanF_oversample_y_predict, target_names=['Noshow', 'Show']))\n",
    "\n",
    "RanF_oversample_confusion = confusion_matrix(y_test, RanF_oversample_y_predict)\n",
    "plot_confusion_matrix(cm           = RanF_oversample_confusion, \n",
    "                      normalize    = False,\n",
    "                      target_names = ['Noshow', 'Show'],\n",
    "                      title        = \"Confusion Matrix\")\n",
    "plot_confusion_matrix(cm           = RanF_oversample_confusion, \n",
    "                      normalize    = True,\n",
    "                      target_names = ['Noshow', 'Show'],\n",
    "                      title        = \"Confusion Matrix\")"
   ]
  },
  {
   "cell_type": "markdown",
   "metadata": {},
   "source": [
    "### SMOTE"
   ]
  },
  {
   "cell_type": "code",
   "execution_count": 62,
   "metadata": {},
   "outputs": [],
   "source": [
    "from imblearn.over_sampling import SMOTE\n",
    "\n",
    "x_train_smote, y_train_smote = SMOTE(ratio='auto', k_neighbors=5, m_neighbors=10,\n",
    "      out_step=0.5, kind='regular', svm_estimator=None, n_jobs=-1).fit_sample(X_train, y_train)"
   ]
  },
  {
   "cell_type": "code",
   "execution_count": 63,
   "metadata": {},
   "outputs": [
    {
     "name": "stdout",
     "output_type": "stream",
     "text": [
      "The original class distribution: Counter({1.0: 60998, 0.0: 15354}),\n",
      "After SMOTE class distribution:  Counter({1.0: 60998, 0.0: 60998})\n"
     ]
    }
   ],
   "source": [
    "from collections import Counter\n",
    "\n",
    "print('The original class distribution: {},'.format(Counter(y_train)))\n",
    "print('After SMOTE class distribution:  {}'.format(Counter(y_train_smote)))"
   ]
  },
  {
   "cell_type": "code",
   "execution_count": 64,
   "metadata": {},
   "outputs": [],
   "source": [
    "RanF_smote = RandomForestClassifier(n_estimators=100, criterion='entropy', max_features='auto', random_state=0)\n",
    "RanF_smote.fit(x_train_smote, y_train_smote)\n",
    "RanF_smote_y_predict = RanF_smote.predict(X_test)"
   ]
  },
  {
   "cell_type": "code",
   "execution_count": 65,
   "metadata": {},
   "outputs": [
    {
     "name": "stdout",
     "output_type": "stream",
     "text": [
      "Accuarcy of DecisionTree Classifier: 0.6345526698361558\n",
      "              precision    recall  f1-score   support\n",
      "\n",
      "      Noshow       0.29      0.59      0.39      5066\n",
      "        Show       0.86      0.65      0.74     20385\n",
      "\n",
      "    accuracy                           0.63     25451\n",
      "   macro avg       0.58      0.62      0.57     25451\n",
      "weighted avg       0.75      0.63      0.67     25451\n",
      "\n"
     ]
    },
    {
     "data": {
      "image/png": "[encoded data removed]",
      "text/plain": [
       "<Figure size 576x432 with 2 Axes>"
      ]
     },
     "metadata": {
      "needs_background": "light"
     },
     "output_type": "display_data"
    },
    {
     "data": {
      "image/png": "[encoded data removed]",
      "text/plain": [
       "<Figure size 576x432 with 2 Axes>"
      ]
     },
     "metadata": {
      "needs_background": "light"
     },
     "output_type": "display_data"
    }
   ],
   "source": [
    "print('Accuarcy of DecisionTree Classifier:', RanF_smote.score(X_test, y_test))\n",
    "print(classification_report(y_test, RanF_smote_y_predict, target_names=['Noshow', 'Show']))\n",
    "\n",
    "RanF_smote_confusion = confusion_matrix(y_test, RanF_smote_y_predict)\n",
    "plot_confusion_matrix(cm           = RanF_smote_confusion, \n",
    "                      normalize    = False,\n",
    "                      target_names = ['Noshow', 'Show'],\n",
    "                      title        = \"Confusion Matrix\")\n",
    "plot_confusion_matrix(cm           = RanF_smote_confusion, \n",
    "                      normalize    = True,\n",
    "                      target_names = ['Noshow', 'Show'],\n",
    "                      title        = \"Confusion Matrix\")"
   ]
  },
  {
   "cell_type": "markdown",
   "metadata": {},
   "source": [
    "## Revisit Patients"
   ]
  },
  {
   "cell_type": "markdown",
   "metadata": {},
   "source": [
    "### Feature selection"
   ]
  },
  {
   "cell_type": "code",
   "execution_count": 66,
   "metadata": {},
   "outputs": [
    {
     "name": "stderr",
     "output_type": "stream",
     "text": [
      "C:\\Users\\Hong\\Anaconda3\\lib\\site-packages\\pandas\\core\\indexing.py:362: SettingWithCopyWarning: \n",
      "A value is trying to be set on a copy of a slice from a DataFrame.\n",
      "Try using .loc[row_indexer,col_indexer] = value instead\n",
      "\n",
      "See the caveats in the documentation: http://pandas.pydata.org/pandas-docs/stable/indexing.html#indexing-view-versus-copy\n",
      "  self.obj[key] = _infer_fill_value(value)\n",
      "C:\\Users\\Hong\\Anaconda3\\lib\\site-packages\\pandas\\core\\indexing.py:543: SettingWithCopyWarning: \n",
      "A value is trying to be set on a copy of a slice from a DataFrame.\n",
      "Try using .loc[row_indexer,col_indexer] = value instead\n",
      "\n",
      "See the caveats in the documentation: http://pandas.pydata.org/pandas-docs/stable/indexing.html#indexing-view-versus-copy\n",
      "  self.obj[item] = s\n"
     ]
    },
    {
     "data": {
      "text/html": [
       "<div>\n",
       "<style scoped>\n",
       "    .dataframe tbody tr th:only-of-type {\n",
       "        vertical-align: middle;\n",
       "    }\n",
       "\n",
       "    .dataframe tbody tr th {\n",
       "        vertical-align: top;\n",
       "    }\n",
       "\n",
       "    .dataframe thead th {\n",
       "        text-align: right;\n",
       "    }\n",
       "</style>\n",
       "<table border=\"1\" class=\"dataframe\">\n",
       "  <thead>\n",
       "    <tr style=\"text-align: right;\">\n",
       "      <th></th>\n",
       "      <th>Gender</th>\n",
       "      <th>Age</th>\n",
       "      <th>Scholarship</th>\n",
       "      <th>Hypertension</th>\n",
       "      <th>Diabetes</th>\n",
       "      <th>Alcoholism</th>\n",
       "      <th>Handicap</th>\n",
       "      <th>SMS_received</th>\n",
       "      <th>Leadtime</th>\n",
       "      <th>ResultNo</th>\n",
       "      <th>PreviousShow</th>\n",
       "      <th>First</th>\n",
       "    </tr>\n",
       "  </thead>\n",
       "  <tbody>\n",
       "    <tr>\n",
       "      <th>3</th>\n",
       "      <td>0</td>\n",
       "      <td>8</td>\n",
       "      <td>0</td>\n",
       "      <td>0</td>\n",
       "      <td>0</td>\n",
       "      <td>0</td>\n",
       "      <td>0</td>\n",
       "      <td>0</td>\n",
       "      <td>0</td>\n",
       "      <td>1.0</td>\n",
       "      <td>Noshow</td>\n",
       "      <td>0.0</td>\n",
       "    </tr>\n",
       "    <tr>\n",
       "      <th>48641</th>\n",
       "      <td>0</td>\n",
       "      <td>8</td>\n",
       "      <td>0</td>\n",
       "      <td>0</td>\n",
       "      <td>0</td>\n",
       "      <td>0</td>\n",
       "      <td>0</td>\n",
       "      <td>0</td>\n",
       "      <td>24</td>\n",
       "      <td>0.0</td>\n",
       "      <td>Noshow</td>\n",
       "      <td>0.0</td>\n",
       "    </tr>\n",
       "  </tbody>\n",
       "</table>\n",
       "</div>"
      ],
      "text/plain": [
       "       Gender  Age  Scholarship  Hypertension  Diabetes  Alcoholism  Handicap  \\\n",
       "3           0    8            0             0         0           0         0   \n",
       "48641       0    8            0             0         0           0         0   \n",
       "\n",
       "       SMS_received  Leadtime  ResultNo PreviousShow  First  \n",
       "3                 0         0       1.0       Noshow    0.0  \n",
       "48641             0        24       0.0       Noshow    0.0  "
      ]
     },
     "execution_count": 66,
     "metadata": {},
     "output_type": "execute_result"
    }
   ],
   "source": [
    "df_revisit.loc[df_revisit['No_show']=='Yes', 'ResultNo'] = 0\n",
    "df_revisit.loc[df_revisit['No_show']=='No', 'ResultNo'] = 1\n",
    "df_model_2 = df_revisit[['Gender', 'Age', 'Scholarship', 'Hypertension', 'Diabetes', 'Alcoholism', 'Handicap', 'SMS_received', 'Leadtime', 'ResultNo','PreviousShow']].copy()\n",
    "df_model_2.loc[df_model_2['Gender']=='F',\"Gender\"] = 0\n",
    "df_model_2.loc[df_model_2['Gender']=='M','Gender'] = 1\n",
    "df_model_2.loc[df_model_2['PreviousShow']=='Noshow', 'First'] = 0\n",
    "df_model_2.loc[df_model_2['PreviousShow']=='Show', 'First'] = 1\n",
    "df_model_2.head(2)"
   ]
  },
  {
   "cell_type": "code",
   "execution_count": 67,
   "metadata": {},
   "outputs": [],
   "source": [
    "# Select features and labels\n",
    "X = df_model_2.iloc[:,[0,1,2,3,4,5,6,7,8,11]]\n",
    "y = df_model_2.iloc[:, [9]]"
   ]
  },
  {
   "cell_type": "code",
   "execution_count": 68,
   "metadata": {},
   "outputs": [
    {
     "data": {
      "text/html": [
       "<div>\n",
       "<style scoped>\n",
       "    .dataframe tbody tr th:only-of-type {\n",
       "        vertical-align: middle;\n",
       "    }\n",
       "\n",
       "    .dataframe tbody tr th {\n",
       "        vertical-align: top;\n",
       "    }\n",
       "\n",
       "    .dataframe thead th {\n",
       "        text-align: right;\n",
       "    }\n",
       "</style>\n",
       "<table border=\"1\" class=\"dataframe\">\n",
       "  <thead>\n",
       "    <tr style=\"text-align: right;\">\n",
       "      <th></th>\n",
       "      <th>Specs</th>\n",
       "      <th>Score</th>\n",
       "    </tr>\n",
       "  </thead>\n",
       "  <tbody>\n",
       "    <tr>\n",
       "      <th>5</th>\n",
       "      <td>Alcoholism</td>\n",
       "      <td>0.000772</td>\n",
       "    </tr>\n",
       "    <tr>\n",
       "      <th>6</th>\n",
       "      <td>Handicap</td>\n",
       "      <td>3.509680</td>\n",
       "    </tr>\n",
       "    <tr>\n",
       "      <th>0</th>\n",
       "      <td>Gender</td>\n",
       "      <td>4.567783</td>\n",
       "    </tr>\n",
       "    <tr>\n",
       "      <th>4</th>\n",
       "      <td>Diabetes</td>\n",
       "      <td>10.695794</td>\n",
       "    </tr>\n",
       "    <tr>\n",
       "      <th>3</th>\n",
       "      <td>Hypertension</td>\n",
       "      <td>44.576309</td>\n",
       "    </tr>\n",
       "    <tr>\n",
       "      <th>2</th>\n",
       "      <td>Scholarship</td>\n",
       "      <td>59.215011</td>\n",
       "    </tr>\n",
       "    <tr>\n",
       "      <th>7</th>\n",
       "      <td>SMS_received</td>\n",
       "      <td>682.409691</td>\n",
       "    </tr>\n",
       "    <tr>\n",
       "      <th>1</th>\n",
       "      <td>Age</td>\n",
       "      <td>2453.701581</td>\n",
       "    </tr>\n",
       "    <tr>\n",
       "      <th>9</th>\n",
       "      <td>First</td>\n",
       "      <td>2746.109151</td>\n",
       "    </tr>\n",
       "    <tr>\n",
       "      <th>8</th>\n",
       "      <td>Leadtime</td>\n",
       "      <td>42429.834602</td>\n",
       "    </tr>\n",
       "  </tbody>\n",
       "</table>\n",
       "</div>"
      ],
      "text/plain": [
       "          Specs         Score\n",
       "5    Alcoholism      0.000772\n",
       "6      Handicap      3.509680\n",
       "0        Gender      4.567783\n",
       "4      Diabetes     10.695794\n",
       "3  Hypertension     44.576309\n",
       "2   Scholarship     59.215011\n",
       "7  SMS_received    682.409691\n",
       "1           Age   2453.701581\n",
       "9         First   2746.109151\n",
       "8      Leadtime  42429.834602"
      ]
     },
     "execution_count": 68,
     "metadata": {},
     "output_type": "execute_result"
    }
   ],
   "source": [
    "# build feature selection model\n",
    "bestfeatures = SelectKBest(score_func=chi2, k=9)\n",
    "fit = bestfeatures.fit(X,y)\n",
    "dfscores = pd.DataFrame(fit.scores_)\n",
    "dfcolumns = pd.DataFrame(X.columns)\n",
    "featureScores = pd.concat([dfcolumns,dfscores],axis=1)\n",
    "featureScores.columns = ['Specs', 'Score']\n",
    "featureScores.sort_values('Score')"
   ]
  },
  {
   "cell_type": "code",
   "execution_count": 69,
   "metadata": {},
   "outputs": [
    {
     "data": {
      "text/plain": [
       "1.0    12312\n",
       "0.0     3174\n",
       "Name: ResultNo, dtype: int64"
      ]
     },
     "execution_count": 69,
     "metadata": {},
     "output_type": "execute_result"
    }
   ],
   "source": [
    "# split dataset into train and test \n",
    "from sklearn.model_selection import train_test_split\n",
    "X_train_revisit, X_test_revisit, y_train_revisit, y_test_revisit = train_test_split(df_model_2[['Age','Leadtime','Hypertension','Scholarship','First']], df_model_2['ResultNo'], test_size = 0.25, random_state=25 )\n",
    "y_test_revisit.value_counts()"
   ]
  },
  {
   "cell_type": "code",
   "execution_count": 70,
   "metadata": {},
   "outputs": [],
   "source": [
    "from imblearn.over_sampling import SMOTE\n",
    "\n",
    "x_revisit_train_smote, y_revisit_train_smote = SMOTE(ratio='auto', k_neighbors=5, m_neighbors=10,\n",
    "      out_step=0.5, kind='regular', svm_estimator=None, n_jobs=-1).fit_sample(X_train_revisit, y_train_revisit)"
   ]
  },
  {
   "cell_type": "code",
   "execution_count": 71,
   "metadata": {},
   "outputs": [
    {
     "name": "stdout",
     "output_type": "stream",
     "text": [
      "The original class distribution: Counter({1.0: 36776, 0.0: 9681}),\n",
      "After SMOTE class distribution:  Counter({1.0: 36776, 0.0: 36776})\n"
     ]
    }
   ],
   "source": [
    "from collections import Counter\n",
    "\n",
    "print('The original class distribution: {},'.format(Counter(y_train_revisit)))\n",
    "print('After SMOTE class distribution:  {}'.format(Counter(y_revisit_train_smote)))\n"
   ]
  },
  {
   "cell_type": "code",
   "execution_count": 72,
   "metadata": {},
   "outputs": [],
   "source": [
    "RanF_smote_revisit = RandomForestClassifier(n_estimators=100, criterion='entropy', max_features='auto', random_state=0)\n",
    "RanF_smote_revisit.fit(x_revisit_train_smote, y_revisit_train_smote)\n",
    "RanF_smote_revisit_y_predict = RanF_smote_revisit.predict(X_test_revisit)"
   ]
  },
  {
   "cell_type": "code",
   "execution_count": 73,
   "metadata": {},
   "outputs": [
    {
     "name": "stdout",
     "output_type": "stream",
     "text": [
      "Accuarcy of DecisionTree Classifier: 0.7901330233759525\n",
      "              precision    recall  f1-score   support\n",
      "\n",
      "      Noshow       0.49      0.51      0.50      3174\n",
      "        Show       0.87      0.86      0.87     12312\n",
      "\n",
      "    accuracy                           0.79     15486\n",
      "   macro avg       0.68      0.69      0.68     15486\n",
      "weighted avg       0.79      0.79      0.79     15486\n",
      "\n"
     ]
    },
    {
     "data": {
      "image/png": "[encoded data removed]",
      "text/plain": [
       "<Figure size 576x432 with 2 Axes>"
      ]
     },
     "metadata": {
      "needs_background": "light"
     },
     "output_type": "display_data"
    },
    {
     "data": {
      "image/png": "[encoded data removed]",
      "text/plain": [
       "<Figure size 576x432 with 2 Axes>"
      ]
     },
     "metadata": {
      "needs_background": "light"
     },
     "output_type": "display_data"
    }
   ],
   "source": [
    "print('Accuarcy of DecisionTree Classifier:', RanF_smote_revisit.score(X_test_revisit, y_test_revisit))\n",
    "print(classification_report(y_test_revisit, RanF_smote_revisit_y_predict, target_names=['Noshow', 'Show']))\n",
    "\n",
    "RanF_smote_revisit_confusion = confusion_matrix(y_test_revisit, RanF_smote_revisit_y_predict)\n",
    "plot_confusion_matrix(cm           = RanF_smote_revisit_confusion, \n",
    "                      normalize    = False,\n",
    "                      target_names = ['Noshow', 'Show'],\n",
    "                      title        = \"Confusion Matrix\")\n",
    "plot_confusion_matrix(cm           = RanF_smote_revisit_confusion, \n",
    "                      normalize    = True,\n",
    "                      target_names = ['Noshow', 'Show'],\n",
    "                      title        = \"Confusion Matrix\")"
   ]
  },
  {
   "cell_type": "markdown",
   "metadata": {},
   "source": [
    "<a id='wrangling'></a>\n",
    "## Conclusion\n",
    "\n",
    "> **In summary**: After exploring the no show medical appointment data, we find that two features (lead time and age) have significant influence on patients' no show rate. It seems like eldly people tend to show up more often, and in order to figure out the underneath reason, more dedicated studies are needed. In addition, the same day appointments have the highest show rate. \n",
    "We also did train this data set with two different classification models, both of them show high accuracy in predicting show up patients. \n",
    "1. Longer lead time has higher no show rate, since not every patient receive message reminder, the institution should increase the reminder coverage for all patients.\n",
    "2. Younger patients has higher no show rate.\n",
    "3. We got higher accuracy and no show recall from revisit patient group, so that mean keep a good record of previous visit is important for future prediction.\n",
    "4. We can over sample our data points to increase no show recall. \n",
    "\n",
    "\n",
    "\n"
   ]
  },
  {
   "cell_type": "code",
   "execution_count": null,
   "metadata": {},
   "outputs": [],
   "source": []
  },
  {
   "cell_type": "markdown",
   "metadata": {},
   "source": [
    "### References:\n",
    "1.Using no-show modeling to  improve clinic performance. J.Daggy, et al. Health Informatics Journal, 2010\n",
    "\n",
    "2.Deep Learning for Predicting Non-attendance in Hospital Outpatient Appointments. M Dashtban, et al. Proceedingsofthe52ndHawaiiInternationalConferenceonSystemSciences, 2019\n",
    "\n",
    "3.Predicting appointment misses in hospitals using data analytics. S. Devasahay, et al. mHealth 2017\n",
    "\n"
   ]
  }
 ],
 "metadata": {
  "kernelspec": {
   "display_name": "Python 3",
   "language": "python",
   "name": "python3"
  },
  "language_info": {
   "codemirror_mode": {
    "name": "ipython",
    "version": 3
   },
   "file_extension": ".py",
   "mimetype": "text/x-python",
   "name": "python",
   "nbconvert_exporter": "python",
   "pygments_lexer": "ipython3",
   "version": "3.7.3"
  }
 },
 "nbformat": 4,
 "nbformat_minor": 2
}
